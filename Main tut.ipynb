{
 "cells": [
  {
   "cell_type": "code",
   "execution_count": 1,
   "id": "06b1c6ed-d034-4f59-9d53-82338cecf6da",
   "metadata": {},
   "outputs": [],
   "source": [
    "import numpy as np\n",
    "import pandas as pd"
   ]
  },
  {
   "cell_type": "code",
   "execution_count": 2,
   "id": "40023df8-9354-4503-8115-ebbc83f57934",
   "metadata": {},
   "outputs": [],
   "source": [
    "dict1={\n",
    "    \"Name\":['Hashir','Sultan','Naini'],\n",
    "    \"Marks\": [80,50,20],\n",
    "    \"City\" : ['Muzaffargarh','Gujrat','Hyderabad']\n",
    "}"
   ]
  },
  {
   "cell_type": "code",
   "execution_count": 3,
   "id": "0c5b90e4-cd92-469e-98b6-e9470149105d",
   "metadata": {},
   "outputs": [],
   "source": [
    "df=pd.DataFrame(dict1)"
   ]
  },
  {
   "cell_type": "code",
   "execution_count": 4,
   "id": "6d6a4923-cd56-4fc8-9fe3-af98a59e2446",
   "metadata": {},
   "outputs": [
    {
     "data": {
      "text/html": [
       "<div>\n",
       "<style scoped>\n",
       "    .dataframe tbody tr th:only-of-type {\n",
       "        vertical-align: middle;\n",
       "    }\n",
       "\n",
       "    .dataframe tbody tr th {\n",
       "        vertical-align: top;\n",
       "    }\n",
       "\n",
       "    .dataframe thead th {\n",
       "        text-align: right;\n",
       "    }\n",
       "</style>\n",
       "<table border=\"1\" class=\"dataframe\">\n",
       "  <thead>\n",
       "    <tr style=\"text-align: right;\">\n",
       "      <th></th>\n",
       "      <th>Name</th>\n",
       "      <th>Marks</th>\n",
       "      <th>City</th>\n",
       "    </tr>\n",
       "  </thead>\n",
       "  <tbody>\n",
       "    <tr>\n",
       "      <th>0</th>\n",
       "      <td>Hashir</td>\n",
       "      <td>80</td>\n",
       "      <td>Muzaffargarh</td>\n",
       "    </tr>\n",
       "    <tr>\n",
       "      <th>1</th>\n",
       "      <td>Sultan</td>\n",
       "      <td>50</td>\n",
       "      <td>Gujrat</td>\n",
       "    </tr>\n",
       "    <tr>\n",
       "      <th>2</th>\n",
       "      <td>Naini</td>\n",
       "      <td>20</td>\n",
       "      <td>Hyderabad</td>\n",
       "    </tr>\n",
       "  </tbody>\n",
       "</table>\n",
       "</div>"
      ],
      "text/plain": [
       "     Name  Marks          City\n",
       "0  Hashir     80  Muzaffargarh\n",
       "1  Sultan     50        Gujrat\n",
       "2   Naini     20     Hyderabad"
      ]
     },
     "execution_count": 4,
     "metadata": {},
     "output_type": "execute_result"
    }
   ],
   "source": [
    "df"
   ]
  },
  {
   "cell_type": "markdown",
   "id": "4b5e561e-e4b8-4ce0-8d7e-cf94fbc8add5",
   "metadata": {},
   "source": [
    "*Rows are represented by **indexes** and columns are represented as **column names***"
   ]
  },
  {
   "cell_type": "markdown",
   "id": "211ae5e6",
   "metadata": {},
   "source": [
    "# To Export data to CSV file:"
   ]
  },
  {
   "cell_type": "code",
   "execution_count": 5,
   "id": "dede5379-fcff-414b-9f03-96d521c1f134",
   "metadata": {},
   "outputs": [],
   "source": [
    "df.to_csv('friends.csv')"
   ]
  },
  {
   "cell_type": "markdown",
   "id": "c9f7bb09",
   "metadata": {},
   "source": [
    "# If we don't want index:"
   ]
  },
  {
   "cell_type": "code",
   "execution_count": 6,
   "id": "bdf97de3",
   "metadata": {},
   "outputs": [],
   "source": [
    "df.to_csv('friends.csv',index=False)"
   ]
  },
  {
   "cell_type": "markdown",
   "id": "9760d03b",
   "metadata": {},
   "source": [
    "# If we want to see first / last two rows only:"
   ]
  },
  {
   "cell_type": "code",
   "execution_count": 7,
   "id": "23b182ea",
   "metadata": {},
   "outputs": [
    {
     "data": {
      "text/html": [
       "<div>\n",
       "<style scoped>\n",
       "    .dataframe tbody tr th:only-of-type {\n",
       "        vertical-align: middle;\n",
       "    }\n",
       "\n",
       "    .dataframe tbody tr th {\n",
       "        vertical-align: top;\n",
       "    }\n",
       "\n",
       "    .dataframe thead th {\n",
       "        text-align: right;\n",
       "    }\n",
       "</style>\n",
       "<table border=\"1\" class=\"dataframe\">\n",
       "  <thead>\n",
       "    <tr style=\"text-align: right;\">\n",
       "      <th></th>\n",
       "      <th>Name</th>\n",
       "      <th>Marks</th>\n",
       "      <th>City</th>\n",
       "    </tr>\n",
       "  </thead>\n",
       "  <tbody>\n",
       "    <tr>\n",
       "      <th>0</th>\n",
       "      <td>Hashir</td>\n",
       "      <td>80</td>\n",
       "      <td>Muzaffargarh</td>\n",
       "    </tr>\n",
       "    <tr>\n",
       "      <th>1</th>\n",
       "      <td>Sultan</td>\n",
       "      <td>50</td>\n",
       "      <td>Gujrat</td>\n",
       "    </tr>\n",
       "  </tbody>\n",
       "</table>\n",
       "</div>"
      ],
      "text/plain": [
       "     Name  Marks          City\n",
       "0  Hashir     80  Muzaffargarh\n",
       "1  Sultan     50        Gujrat"
      ]
     },
     "execution_count": 7,
     "metadata": {},
     "output_type": "execute_result"
    }
   ],
   "source": [
    "df.head(2)"
   ]
  },
  {
   "cell_type": "code",
   "execution_count": 8,
   "id": "e715414f",
   "metadata": {},
   "outputs": [
    {
     "data": {
      "text/html": [
       "<div>\n",
       "<style scoped>\n",
       "    .dataframe tbody tr th:only-of-type {\n",
       "        vertical-align: middle;\n",
       "    }\n",
       "\n",
       "    .dataframe tbody tr th {\n",
       "        vertical-align: top;\n",
       "    }\n",
       "\n",
       "    .dataframe thead th {\n",
       "        text-align: right;\n",
       "    }\n",
       "</style>\n",
       "<table border=\"1\" class=\"dataframe\">\n",
       "  <thead>\n",
       "    <tr style=\"text-align: right;\">\n",
       "      <th></th>\n",
       "      <th>Name</th>\n",
       "      <th>Marks</th>\n",
       "      <th>City</th>\n",
       "    </tr>\n",
       "  </thead>\n",
       "  <tbody>\n",
       "    <tr>\n",
       "      <th>1</th>\n",
       "      <td>Sultan</td>\n",
       "      <td>50</td>\n",
       "      <td>Gujrat</td>\n",
       "    </tr>\n",
       "    <tr>\n",
       "      <th>2</th>\n",
       "      <td>Naini</td>\n",
       "      <td>20</td>\n",
       "      <td>Hyderabad</td>\n",
       "    </tr>\n",
       "  </tbody>\n",
       "</table>\n",
       "</div>"
      ],
      "text/plain": [
       "     Name  Marks       City\n",
       "1  Sultan     50     Gujrat\n",
       "2   Naini     20  Hyderabad"
      ]
     },
     "execution_count": 8,
     "metadata": {},
     "output_type": "execute_result"
    }
   ],
   "source": [
    "df.tail(2)"
   ]
  },
  {
   "cell_type": "markdown",
   "id": "1f33130c",
   "metadata": {},
   "source": [
    "# To see statistical analysis of numeric data:"
   ]
  },
  {
   "cell_type": "code",
   "execution_count": 9,
   "id": "555063a0",
   "metadata": {},
   "outputs": [
    {
     "data": {
      "text/html": [
       "<div>\n",
       "<style scoped>\n",
       "    .dataframe tbody tr th:only-of-type {\n",
       "        vertical-align: middle;\n",
       "    }\n",
       "\n",
       "    .dataframe tbody tr th {\n",
       "        vertical-align: top;\n",
       "    }\n",
       "\n",
       "    .dataframe thead th {\n",
       "        text-align: right;\n",
       "    }\n",
       "</style>\n",
       "<table border=\"1\" class=\"dataframe\">\n",
       "  <thead>\n",
       "    <tr style=\"text-align: right;\">\n",
       "      <th></th>\n",
       "      <th>Marks</th>\n",
       "    </tr>\n",
       "  </thead>\n",
       "  <tbody>\n",
       "    <tr>\n",
       "      <th>count</th>\n",
       "      <td>3.0</td>\n",
       "    </tr>\n",
       "    <tr>\n",
       "      <th>mean</th>\n",
       "      <td>50.0</td>\n",
       "    </tr>\n",
       "    <tr>\n",
       "      <th>std</th>\n",
       "      <td>30.0</td>\n",
       "    </tr>\n",
       "    <tr>\n",
       "      <th>min</th>\n",
       "      <td>20.0</td>\n",
       "    </tr>\n",
       "    <tr>\n",
       "      <th>25%</th>\n",
       "      <td>35.0</td>\n",
       "    </tr>\n",
       "    <tr>\n",
       "      <th>50%</th>\n",
       "      <td>50.0</td>\n",
       "    </tr>\n",
       "    <tr>\n",
       "      <th>75%</th>\n",
       "      <td>65.0</td>\n",
       "    </tr>\n",
       "    <tr>\n",
       "      <th>max</th>\n",
       "      <td>80.0</td>\n",
       "    </tr>\n",
       "  </tbody>\n",
       "</table>\n",
       "</div>"
      ],
      "text/plain": [
       "       Marks\n",
       "count    3.0\n",
       "mean    50.0\n",
       "std     30.0\n",
       "min     20.0\n",
       "25%     35.0\n",
       "50%     50.0\n",
       "75%     65.0\n",
       "max     80.0"
      ]
     },
     "execution_count": 9,
     "metadata": {},
     "output_type": "execute_result"
    }
   ],
   "source": [
    "df.describe()"
   ]
  },
  {
   "cell_type": "markdown",
   "id": "76e0bd89",
   "metadata": {},
   "source": [
    "# Read a CSV File"
   ]
  },
  {
   "cell_type": "code",
   "execution_count": 10,
   "id": "4a761eb3",
   "metadata": {},
   "outputs": [],
   "source": [
    "harry=pd.read_csv('Trains.csv')"
   ]
  },
  {
   "cell_type": "code",
   "execution_count": 11,
   "id": "6a9f3b4c",
   "metadata": {},
   "outputs": [
    {
     "data": {
      "text/html": [
       "<div>\n",
       "<style scoped>\n",
       "    .dataframe tbody tr th:only-of-type {\n",
       "        vertical-align: middle;\n",
       "    }\n",
       "\n",
       "    .dataframe tbody tr th {\n",
       "        vertical-align: top;\n",
       "    }\n",
       "\n",
       "    .dataframe thead th {\n",
       "        text-align: right;\n",
       "    }\n",
       "</style>\n",
       "<table border=\"1\" class=\"dataframe\">\n",
       "  <thead>\n",
       "    <tr style=\"text-align: right;\">\n",
       "      <th></th>\n",
       "      <th>Unnamed: 0.14</th>\n",
       "      <th>Unnamed: 0.13</th>\n",
       "      <th>Unnamed: 0.12</th>\n",
       "      <th>Unnamed: 0.11</th>\n",
       "      <th>Unnamed: 0.10</th>\n",
       "      <th>Unnamed: 0.9</th>\n",
       "      <th>Unnamed: 0.8</th>\n",
       "      <th>Unnamed: 0.7</th>\n",
       "      <th>Unnamed: 0.6</th>\n",
       "      <th>Unnamed: 0.5</th>\n",
       "      <th>Unnamed: 0.4</th>\n",
       "      <th>Unnamed: 0.3</th>\n",
       "      <th>Unnamed: 0.2</th>\n",
       "      <th>Unnamed: 0.1</th>\n",
       "      <th>Unnamed: 0</th>\n",
       "      <th>Train No</th>\n",
       "      <th>Speed</th>\n",
       "      <th>Destination</th>\n",
       "    </tr>\n",
       "  </thead>\n",
       "  <tbody>\n",
       "    <tr>\n",
       "      <th>0</th>\n",
       "      <td>0</td>\n",
       "      <td>0</td>\n",
       "      <td>0</td>\n",
       "      <td>0</td>\n",
       "      <td>0</td>\n",
       "      <td>0</td>\n",
       "      <td>0</td>\n",
       "      <td>0</td>\n",
       "      <td>0</td>\n",
       "      <td>0</td>\n",
       "      <td>0</td>\n",
       "      <td>0</td>\n",
       "      <td>0</td>\n",
       "      <td>0</td>\n",
       "      <td>0</td>\n",
       "      <td>22444</td>\n",
       "      <td>345</td>\n",
       "      <td>Muzaffargarh</td>\n",
       "    </tr>\n",
       "    <tr>\n",
       "      <th>1</th>\n",
       "      <td>1</td>\n",
       "      <td>1</td>\n",
       "      <td>1</td>\n",
       "      <td>1</td>\n",
       "      <td>1</td>\n",
       "      <td>1</td>\n",
       "      <td>1</td>\n",
       "      <td>1</td>\n",
       "      <td>1</td>\n",
       "      <td>1</td>\n",
       "      <td>1</td>\n",
       "      <td>1</td>\n",
       "      <td>1</td>\n",
       "      <td>1</td>\n",
       "      <td>1</td>\n",
       "      <td>55898</td>\n",
       "      <td>150</td>\n",
       "      <td>Gujrat</td>\n",
       "    </tr>\n",
       "    <tr>\n",
       "      <th>2</th>\n",
       "      <td>2</td>\n",
       "      <td>2</td>\n",
       "      <td>2</td>\n",
       "      <td>2</td>\n",
       "      <td>2</td>\n",
       "      <td>2</td>\n",
       "      <td>2</td>\n",
       "      <td>2</td>\n",
       "      <td>2</td>\n",
       "      <td>2</td>\n",
       "      <td>2</td>\n",
       "      <td>2</td>\n",
       "      <td>2</td>\n",
       "      <td>2</td>\n",
       "      <td>2</td>\n",
       "      <td>6657</td>\n",
       "      <td>200</td>\n",
       "      <td>Hyderabad</td>\n",
       "    </tr>\n",
       "  </tbody>\n",
       "</table>\n",
       "</div>"
      ],
      "text/plain": [
       "   Unnamed: 0.14  Unnamed: 0.13  Unnamed: 0.12  Unnamed: 0.11  Unnamed: 0.10  \\\n",
       "0              0              0              0              0              0   \n",
       "1              1              1              1              1              1   \n",
       "2              2              2              2              2              2   \n",
       "\n",
       "   Unnamed: 0.9  Unnamed: 0.8  Unnamed: 0.7  Unnamed: 0.6  Unnamed: 0.5  \\\n",
       "0             0             0             0             0             0   \n",
       "1             1             1             1             1             1   \n",
       "2             2             2             2             2             2   \n",
       "\n",
       "   Unnamed: 0.4  Unnamed: 0.3  Unnamed: 0.2  Unnamed: 0.1  Unnamed: 0  \\\n",
       "0             0             0             0             0           0   \n",
       "1             1             1             1             1           1   \n",
       "2             2             2             2             2           2   \n",
       "\n",
       "   Train No  Speed   Destination  \n",
       "0     22444    345  Muzaffargarh  \n",
       "1     55898    150        Gujrat  \n",
       "2      6657    200     Hyderabad  "
      ]
     },
     "execution_count": 11,
     "metadata": {},
     "output_type": "execute_result"
    }
   ],
   "source": [
    "harry"
   ]
  },
  {
   "cell_type": "markdown",
   "id": "53157c69",
   "metadata": {},
   "source": [
    "# To get only column"
   ]
  },
  {
   "cell_type": "code",
   "execution_count": 12,
   "id": "1ce36a70",
   "metadata": {},
   "outputs": [
    {
     "data": {
      "text/plain": [
       "0    345\n",
       "1    150\n",
       "2    200\n",
       "Name: Speed, dtype: int64"
      ]
     },
     "execution_count": 12,
     "metadata": {},
     "output_type": "execute_result"
    }
   ],
   "source": [
    "harry['Speed']"
   ]
  },
  {
   "cell_type": "markdown",
   "id": "1bd5d75d",
   "metadata": {},
   "source": [
    "*To get column at certain index:* "
   ]
  },
  {
   "cell_type": "code",
   "execution_count": 13,
   "id": "33e3738c",
   "metadata": {},
   "outputs": [
    {
     "data": {
      "text/plain": [
       "345"
      ]
     },
     "execution_count": 13,
     "metadata": {},
     "output_type": "execute_result"
    }
   ],
   "source": [
    "harry['Speed'][0]"
   ]
  },
  {
   "cell_type": "markdown",
   "id": "705b05e5",
   "metadata": {},
   "source": [
    "# To change a value in CSV file"
   ]
  },
  {
   "cell_type": "markdown",
   "id": "dcb5f8b8",
   "metadata": {},
   "source": [
    "*+ First you have to read the file*"
   ]
  },
  {
   "cell_type": "code",
   "execution_count": 14,
   "id": "0337f2c6",
   "metadata": {},
   "outputs": [
    {
     "name": "stderr",
     "output_type": "stream",
     "text": [
      "C:\\Users\\HASHIR\\AppData\\Local\\Temp\\ipykernel_5804\\860565992.py:1: SettingWithCopyWarning: \n",
      "A value is trying to be set on a copy of a slice from a DataFrame\n",
      "\n",
      "See the caveats in the documentation: https://pandas.pydata.org/pandas-docs/stable/user_guide/indexing.html#returning-a-view-versus-a-copy\n",
      "  harry['Speed'][0]=345\n"
     ]
    }
   ],
   "source": [
    "harry['Speed'][0]=345"
   ]
  },
  {
   "cell_type": "code",
   "execution_count": 15,
   "id": "72cd23fe",
   "metadata": {},
   "outputs": [
    {
     "data": {
      "text/html": [
       "<div>\n",
       "<style scoped>\n",
       "    .dataframe tbody tr th:only-of-type {\n",
       "        vertical-align: middle;\n",
       "    }\n",
       "\n",
       "    .dataframe tbody tr th {\n",
       "        vertical-align: top;\n",
       "    }\n",
       "\n",
       "    .dataframe thead th {\n",
       "        text-align: right;\n",
       "    }\n",
       "</style>\n",
       "<table border=\"1\" class=\"dataframe\">\n",
       "  <thead>\n",
       "    <tr style=\"text-align: right;\">\n",
       "      <th></th>\n",
       "      <th>Unnamed: 0.14</th>\n",
       "      <th>Unnamed: 0.13</th>\n",
       "      <th>Unnamed: 0.12</th>\n",
       "      <th>Unnamed: 0.11</th>\n",
       "      <th>Unnamed: 0.10</th>\n",
       "      <th>Unnamed: 0.9</th>\n",
       "      <th>Unnamed: 0.8</th>\n",
       "      <th>Unnamed: 0.7</th>\n",
       "      <th>Unnamed: 0.6</th>\n",
       "      <th>Unnamed: 0.5</th>\n",
       "      <th>Unnamed: 0.4</th>\n",
       "      <th>Unnamed: 0.3</th>\n",
       "      <th>Unnamed: 0.2</th>\n",
       "      <th>Unnamed: 0.1</th>\n",
       "      <th>Unnamed: 0</th>\n",
       "      <th>Train No</th>\n",
       "      <th>Speed</th>\n",
       "      <th>Destination</th>\n",
       "    </tr>\n",
       "  </thead>\n",
       "  <tbody>\n",
       "    <tr>\n",
       "      <th>0</th>\n",
       "      <td>0</td>\n",
       "      <td>0</td>\n",
       "      <td>0</td>\n",
       "      <td>0</td>\n",
       "      <td>0</td>\n",
       "      <td>0</td>\n",
       "      <td>0</td>\n",
       "      <td>0</td>\n",
       "      <td>0</td>\n",
       "      <td>0</td>\n",
       "      <td>0</td>\n",
       "      <td>0</td>\n",
       "      <td>0</td>\n",
       "      <td>0</td>\n",
       "      <td>0</td>\n",
       "      <td>22444</td>\n",
       "      <td>345</td>\n",
       "      <td>Muzaffargarh</td>\n",
       "    </tr>\n",
       "    <tr>\n",
       "      <th>1</th>\n",
       "      <td>1</td>\n",
       "      <td>1</td>\n",
       "      <td>1</td>\n",
       "      <td>1</td>\n",
       "      <td>1</td>\n",
       "      <td>1</td>\n",
       "      <td>1</td>\n",
       "      <td>1</td>\n",
       "      <td>1</td>\n",
       "      <td>1</td>\n",
       "      <td>1</td>\n",
       "      <td>1</td>\n",
       "      <td>1</td>\n",
       "      <td>1</td>\n",
       "      <td>1</td>\n",
       "      <td>55898</td>\n",
       "      <td>150</td>\n",
       "      <td>Gujrat</td>\n",
       "    </tr>\n",
       "    <tr>\n",
       "      <th>2</th>\n",
       "      <td>2</td>\n",
       "      <td>2</td>\n",
       "      <td>2</td>\n",
       "      <td>2</td>\n",
       "      <td>2</td>\n",
       "      <td>2</td>\n",
       "      <td>2</td>\n",
       "      <td>2</td>\n",
       "      <td>2</td>\n",
       "      <td>2</td>\n",
       "      <td>2</td>\n",
       "      <td>2</td>\n",
       "      <td>2</td>\n",
       "      <td>2</td>\n",
       "      <td>2</td>\n",
       "      <td>6657</td>\n",
       "      <td>200</td>\n",
       "      <td>Hyderabad</td>\n",
       "    </tr>\n",
       "  </tbody>\n",
       "</table>\n",
       "</div>"
      ],
      "text/plain": [
       "   Unnamed: 0.14  Unnamed: 0.13  Unnamed: 0.12  Unnamed: 0.11  Unnamed: 0.10  \\\n",
       "0              0              0              0              0              0   \n",
       "1              1              1              1              1              1   \n",
       "2              2              2              2              2              2   \n",
       "\n",
       "   Unnamed: 0.9  Unnamed: 0.8  Unnamed: 0.7  Unnamed: 0.6  Unnamed: 0.5  \\\n",
       "0             0             0             0             0             0   \n",
       "1             1             1             1             1             1   \n",
       "2             2             2             2             2             2   \n",
       "\n",
       "   Unnamed: 0.4  Unnamed: 0.3  Unnamed: 0.2  Unnamed: 0.1  Unnamed: 0  \\\n",
       "0             0             0             0             0           0   \n",
       "1             1             1             1             1           1   \n",
       "2             2             2             2             2           2   \n",
       "\n",
       "   Train No  Speed   Destination  \n",
       "0     22444    345  Muzaffargarh  \n",
       "1     55898    150        Gujrat  \n",
       "2      6657    200     Hyderabad  "
      ]
     },
     "execution_count": 15,
     "metadata": {},
     "output_type": "execute_result"
    }
   ],
   "source": [
    "harry"
   ]
  },
  {
   "cell_type": "markdown",
   "id": "bcab3cbf",
   "metadata": {},
   "source": [
    "*Changed value at index 0*"
   ]
  },
  {
   "cell_type": "code",
   "execution_count": 16,
   "id": "58ffa10c",
   "metadata": {},
   "outputs": [],
   "source": [
    "harry.to_csv('Trains.csv')"
   ]
  },
  {
   "cell_type": "markdown",
   "id": "bf0d8805",
   "metadata": {},
   "source": [
    "# To change the index"
   ]
  },
  {
   "cell_type": "code",
   "execution_count": 17,
   "id": "5ec32c9b",
   "metadata": {},
   "outputs": [],
   "source": [
    "harry.index=['first','second','third']"
   ]
  },
  {
   "cell_type": "code",
   "execution_count": 18,
   "id": "10f622ad",
   "metadata": {},
   "outputs": [
    {
     "data": {
      "text/html": [
       "<div>\n",
       "<style scoped>\n",
       "    .dataframe tbody tr th:only-of-type {\n",
       "        vertical-align: middle;\n",
       "    }\n",
       "\n",
       "    .dataframe tbody tr th {\n",
       "        vertical-align: top;\n",
       "    }\n",
       "\n",
       "    .dataframe thead th {\n",
       "        text-align: right;\n",
       "    }\n",
       "</style>\n",
       "<table border=\"1\" class=\"dataframe\">\n",
       "  <thead>\n",
       "    <tr style=\"text-align: right;\">\n",
       "      <th></th>\n",
       "      <th>Unnamed: 0.14</th>\n",
       "      <th>Unnamed: 0.13</th>\n",
       "      <th>Unnamed: 0.12</th>\n",
       "      <th>Unnamed: 0.11</th>\n",
       "      <th>Unnamed: 0.10</th>\n",
       "      <th>Unnamed: 0.9</th>\n",
       "      <th>Unnamed: 0.8</th>\n",
       "      <th>Unnamed: 0.7</th>\n",
       "      <th>Unnamed: 0.6</th>\n",
       "      <th>Unnamed: 0.5</th>\n",
       "      <th>Unnamed: 0.4</th>\n",
       "      <th>Unnamed: 0.3</th>\n",
       "      <th>Unnamed: 0.2</th>\n",
       "      <th>Unnamed: 0.1</th>\n",
       "      <th>Unnamed: 0</th>\n",
       "      <th>Train No</th>\n",
       "      <th>Speed</th>\n",
       "      <th>Destination</th>\n",
       "    </tr>\n",
       "  </thead>\n",
       "  <tbody>\n",
       "    <tr>\n",
       "      <th>first</th>\n",
       "      <td>0</td>\n",
       "      <td>0</td>\n",
       "      <td>0</td>\n",
       "      <td>0</td>\n",
       "      <td>0</td>\n",
       "      <td>0</td>\n",
       "      <td>0</td>\n",
       "      <td>0</td>\n",
       "      <td>0</td>\n",
       "      <td>0</td>\n",
       "      <td>0</td>\n",
       "      <td>0</td>\n",
       "      <td>0</td>\n",
       "      <td>0</td>\n",
       "      <td>0</td>\n",
       "      <td>22444</td>\n",
       "      <td>345</td>\n",
       "      <td>Muzaffargarh</td>\n",
       "    </tr>\n",
       "    <tr>\n",
       "      <th>second</th>\n",
       "      <td>1</td>\n",
       "      <td>1</td>\n",
       "      <td>1</td>\n",
       "      <td>1</td>\n",
       "      <td>1</td>\n",
       "      <td>1</td>\n",
       "      <td>1</td>\n",
       "      <td>1</td>\n",
       "      <td>1</td>\n",
       "      <td>1</td>\n",
       "      <td>1</td>\n",
       "      <td>1</td>\n",
       "      <td>1</td>\n",
       "      <td>1</td>\n",
       "      <td>1</td>\n",
       "      <td>55898</td>\n",
       "      <td>150</td>\n",
       "      <td>Gujrat</td>\n",
       "    </tr>\n",
       "    <tr>\n",
       "      <th>third</th>\n",
       "      <td>2</td>\n",
       "      <td>2</td>\n",
       "      <td>2</td>\n",
       "      <td>2</td>\n",
       "      <td>2</td>\n",
       "      <td>2</td>\n",
       "      <td>2</td>\n",
       "      <td>2</td>\n",
       "      <td>2</td>\n",
       "      <td>2</td>\n",
       "      <td>2</td>\n",
       "      <td>2</td>\n",
       "      <td>2</td>\n",
       "      <td>2</td>\n",
       "      <td>2</td>\n",
       "      <td>6657</td>\n",
       "      <td>200</td>\n",
       "      <td>Hyderabad</td>\n",
       "    </tr>\n",
       "  </tbody>\n",
       "</table>\n",
       "</div>"
      ],
      "text/plain": [
       "        Unnamed: 0.14  Unnamed: 0.13  Unnamed: 0.12  Unnamed: 0.11  \\\n",
       "first               0              0              0              0   \n",
       "second              1              1              1              1   \n",
       "third               2              2              2              2   \n",
       "\n",
       "        Unnamed: 0.10  Unnamed: 0.9  Unnamed: 0.8  Unnamed: 0.7  Unnamed: 0.6  \\\n",
       "first               0             0             0             0             0   \n",
       "second              1             1             1             1             1   \n",
       "third               2             2             2             2             2   \n",
       "\n",
       "        Unnamed: 0.5  Unnamed: 0.4  Unnamed: 0.3  Unnamed: 0.2  Unnamed: 0.1  \\\n",
       "first              0             0             0             0             0   \n",
       "second             1             1             1             1             1   \n",
       "third              2             2             2             2             2   \n",
       "\n",
       "        Unnamed: 0  Train No  Speed   Destination  \n",
       "first            0     22444    345  Muzaffargarh  \n",
       "second           1     55898    150        Gujrat  \n",
       "third            2      6657    200     Hyderabad  "
      ]
     },
     "execution_count": 18,
     "metadata": {},
     "output_type": "execute_result"
    }
   ],
   "source": [
    "harry\n"
   ]
  },
  {
   "cell_type": "markdown",
   "id": "e0120572-5248-42f9-bdb0-95665caa26e2",
   "metadata": {},
   "source": [
    "# Pandas Series: "
   ]
  },
  {
   "cell_type": "code",
   "execution_count": 19,
   "id": "cc8d61a1",
   "metadata": {},
   "outputs": [],
   "source": [
    "ser=pd.Series(np.random.rand(34))"
   ]
  },
  {
   "cell_type": "code",
   "execution_count": 20,
   "id": "5d8637e3-049a-4a4f-9043-db5d18fe52b7",
   "metadata": {},
   "outputs": [
    {
     "data": {
      "text/plain": [
       "0     0.490488\n",
       "1     0.461985\n",
       "2     0.175729\n",
       "3     0.707281\n",
       "4     0.659692\n",
       "5     0.856096\n",
       "6     0.115918\n",
       "7     0.462859\n",
       "8     0.685072\n",
       "9     0.285929\n",
       "10    0.884224\n",
       "11    0.344066\n",
       "12    0.209257\n",
       "13    0.613920\n",
       "14    0.454522\n",
       "15    0.323490\n",
       "16    0.649767\n",
       "17    0.321534\n",
       "18    0.752079\n",
       "19    0.123320\n",
       "20    0.852508\n",
       "21    0.281675\n",
       "22    0.608348\n",
       "23    0.196498\n",
       "24    0.732923\n",
       "25    0.735868\n",
       "26    0.065540\n",
       "27    0.284647\n",
       "28    0.517110\n",
       "29    0.374100\n",
       "30    0.052955\n",
       "31    0.502897\n",
       "32    0.783332\n",
       "33    0.312272\n",
       "dtype: float64"
      ]
     },
     "execution_count": 20,
     "metadata": {},
     "output_type": "execute_result"
    }
   ],
   "source": [
    "ser"
   ]
  },
  {
   "cell_type": "markdown",
   "id": "433cb419-f1d5-49c1-b304-6dc637da12da",
   "metadata": {},
   "source": []
  },
  {
   "cell_type": "markdown",
   "id": "8af98b8d-4660-4701-9df9-dbd08a3390d4",
   "metadata": {},
   "source": [
    "*Check it's Type:*"
   ]
  },
  {
   "cell_type": "code",
   "execution_count": 21,
   "id": "4745bbc7-0a7e-4bbc-bda1-5716f00ed14c",
   "metadata": {},
   "outputs": [
    {
     "data": {
      "text/plain": [
       "pandas.core.series.Series"
      ]
     },
     "execution_count": 21,
     "metadata": {},
     "output_type": "execute_result"
    }
   ],
   "source": [
    "type(ser)"
   ]
  },
  {
   "cell_type": "markdown",
   "id": "c4b3eb30",
   "metadata": {},
   "source": [
    "# Make Series's Data Frame"
   ]
  },
  {
   "cell_type": "code",
   "execution_count": 22,
   "id": "b420293a-d8f2-4734-861e-9bca1c095cc3",
   "metadata": {},
   "outputs": [],
   "source": [
    "newdf = pd.DataFrame(np.random.rand(334,5),index=np.arange(334))"
   ]
  },
  {
   "cell_type": "code",
   "execution_count": 23,
   "id": "daba3800",
   "metadata": {},
   "outputs": [
    {
     "data": {
      "text/html": [
       "<div>\n",
       "<style scoped>\n",
       "    .dataframe tbody tr th:only-of-type {\n",
       "        vertical-align: middle;\n",
       "    }\n",
       "\n",
       "    .dataframe tbody tr th {\n",
       "        vertical-align: top;\n",
       "    }\n",
       "\n",
       "    .dataframe thead th {\n",
       "        text-align: right;\n",
       "    }\n",
       "</style>\n",
       "<table border=\"1\" class=\"dataframe\">\n",
       "  <thead>\n",
       "    <tr style=\"text-align: right;\">\n",
       "      <th></th>\n",
       "      <th>0</th>\n",
       "      <th>1</th>\n",
       "      <th>2</th>\n",
       "      <th>3</th>\n",
       "      <th>4</th>\n",
       "    </tr>\n",
       "  </thead>\n",
       "  <tbody>\n",
       "    <tr>\n",
       "      <th>0</th>\n",
       "      <td>0.758507</td>\n",
       "      <td>0.748895</td>\n",
       "      <td>0.218383</td>\n",
       "      <td>0.933929</td>\n",
       "      <td>0.577327</td>\n",
       "    </tr>\n",
       "    <tr>\n",
       "      <th>1</th>\n",
       "      <td>0.450295</td>\n",
       "      <td>0.464547</td>\n",
       "      <td>0.651076</td>\n",
       "      <td>0.324801</td>\n",
       "      <td>0.733264</td>\n",
       "    </tr>\n",
       "    <tr>\n",
       "      <th>2</th>\n",
       "      <td>0.189632</td>\n",
       "      <td>0.335933</td>\n",
       "      <td>0.578361</td>\n",
       "      <td>0.742072</td>\n",
       "      <td>0.055315</td>\n",
       "    </tr>\n",
       "    <tr>\n",
       "      <th>3</th>\n",
       "      <td>0.285339</td>\n",
       "      <td>0.389210</td>\n",
       "      <td>0.232521</td>\n",
       "      <td>0.310403</td>\n",
       "      <td>0.966078</td>\n",
       "    </tr>\n",
       "    <tr>\n",
       "      <th>4</th>\n",
       "      <td>0.334091</td>\n",
       "      <td>0.047684</td>\n",
       "      <td>0.876100</td>\n",
       "      <td>0.083725</td>\n",
       "      <td>0.470397</td>\n",
       "    </tr>\n",
       "    <tr>\n",
       "      <th>...</th>\n",
       "      <td>...</td>\n",
       "      <td>...</td>\n",
       "      <td>...</td>\n",
       "      <td>...</td>\n",
       "      <td>...</td>\n",
       "    </tr>\n",
       "    <tr>\n",
       "      <th>329</th>\n",
       "      <td>0.513628</td>\n",
       "      <td>0.532974</td>\n",
       "      <td>0.130179</td>\n",
       "      <td>0.832103</td>\n",
       "      <td>0.630622</td>\n",
       "    </tr>\n",
       "    <tr>\n",
       "      <th>330</th>\n",
       "      <td>0.036774</td>\n",
       "      <td>0.322895</td>\n",
       "      <td>0.503665</td>\n",
       "      <td>0.872864</td>\n",
       "      <td>0.806835</td>\n",
       "    </tr>\n",
       "    <tr>\n",
       "      <th>331</th>\n",
       "      <td>0.094525</td>\n",
       "      <td>0.390939</td>\n",
       "      <td>0.458115</td>\n",
       "      <td>0.084138</td>\n",
       "      <td>0.005681</td>\n",
       "    </tr>\n",
       "    <tr>\n",
       "      <th>332</th>\n",
       "      <td>0.083795</td>\n",
       "      <td>0.873162</td>\n",
       "      <td>0.739991</td>\n",
       "      <td>0.926915</td>\n",
       "      <td>0.892499</td>\n",
       "    </tr>\n",
       "    <tr>\n",
       "      <th>333</th>\n",
       "      <td>0.321362</td>\n",
       "      <td>0.719313</td>\n",
       "      <td>0.231858</td>\n",
       "      <td>0.202792</td>\n",
       "      <td>0.336732</td>\n",
       "    </tr>\n",
       "  </tbody>\n",
       "</table>\n",
       "<p>334 rows × 5 columns</p>\n",
       "</div>"
      ],
      "text/plain": [
       "            0         1         2         3         4\n",
       "0    0.758507  0.748895  0.218383  0.933929  0.577327\n",
       "1    0.450295  0.464547  0.651076  0.324801  0.733264\n",
       "2    0.189632  0.335933  0.578361  0.742072  0.055315\n",
       "3    0.285339  0.389210  0.232521  0.310403  0.966078\n",
       "4    0.334091  0.047684  0.876100  0.083725  0.470397\n",
       "..        ...       ...       ...       ...       ...\n",
       "329  0.513628  0.532974  0.130179  0.832103  0.630622\n",
       "330  0.036774  0.322895  0.503665  0.872864  0.806835\n",
       "331  0.094525  0.390939  0.458115  0.084138  0.005681\n",
       "332  0.083795  0.873162  0.739991  0.926915  0.892499\n",
       "333  0.321362  0.719313  0.231858  0.202792  0.336732\n",
       "\n",
       "[334 rows x 5 columns]"
      ]
     },
     "execution_count": 23,
     "metadata": {},
     "output_type": "execute_result"
    }
   ],
   "source": [
    "newdf"
   ]
  },
  {
   "cell_type": "code",
   "execution_count": 24,
   "id": "1da82673",
   "metadata": {},
   "outputs": [
    {
     "data": {
      "text/plain": [
       "pandas.core.frame.DataFrame"
      ]
     },
     "execution_count": 24,
     "metadata": {},
     "output_type": "execute_result"
    }
   ],
   "source": [
    "type(newdf)"
   ]
  },
  {
   "cell_type": "code",
   "execution_count": 25,
   "id": "971a55fd",
   "metadata": {},
   "outputs": [
    {
     "data": {
      "text/html": [
       "<div>\n",
       "<style scoped>\n",
       "    .dataframe tbody tr th:only-of-type {\n",
       "        vertical-align: middle;\n",
       "    }\n",
       "\n",
       "    .dataframe tbody tr th {\n",
       "        vertical-align: top;\n",
       "    }\n",
       "\n",
       "    .dataframe thead th {\n",
       "        text-align: right;\n",
       "    }\n",
       "</style>\n",
       "<table border=\"1\" class=\"dataframe\">\n",
       "  <thead>\n",
       "    <tr style=\"text-align: right;\">\n",
       "      <th></th>\n",
       "      <th>0</th>\n",
       "      <th>1</th>\n",
       "      <th>2</th>\n",
       "      <th>3</th>\n",
       "      <th>4</th>\n",
       "    </tr>\n",
       "  </thead>\n",
       "  <tbody>\n",
       "    <tr>\n",
       "      <th>count</th>\n",
       "      <td>334.000000</td>\n",
       "      <td>334.000000</td>\n",
       "      <td>334.000000</td>\n",
       "      <td>334.000000</td>\n",
       "      <td>334.000000</td>\n",
       "    </tr>\n",
       "    <tr>\n",
       "      <th>mean</th>\n",
       "      <td>0.483391</td>\n",
       "      <td>0.508635</td>\n",
       "      <td>0.490238</td>\n",
       "      <td>0.499162</td>\n",
       "      <td>0.502385</td>\n",
       "    </tr>\n",
       "    <tr>\n",
       "      <th>std</th>\n",
       "      <td>0.305506</td>\n",
       "      <td>0.280067</td>\n",
       "      <td>0.293337</td>\n",
       "      <td>0.286824</td>\n",
       "      <td>0.295164</td>\n",
       "    </tr>\n",
       "    <tr>\n",
       "      <th>min</th>\n",
       "      <td>0.002914</td>\n",
       "      <td>0.010463</td>\n",
       "      <td>0.001121</td>\n",
       "      <td>0.000067</td>\n",
       "      <td>0.003208</td>\n",
       "    </tr>\n",
       "    <tr>\n",
       "      <th>25%</th>\n",
       "      <td>0.211938</td>\n",
       "      <td>0.278918</td>\n",
       "      <td>0.236802</td>\n",
       "      <td>0.225190</td>\n",
       "      <td>0.252706</td>\n",
       "    </tr>\n",
       "    <tr>\n",
       "      <th>50%</th>\n",
       "      <td>0.450928</td>\n",
       "      <td>0.518573</td>\n",
       "      <td>0.475532</td>\n",
       "      <td>0.491566</td>\n",
       "      <td>0.502081</td>\n",
       "    </tr>\n",
       "    <tr>\n",
       "      <th>75%</th>\n",
       "      <td>0.770664</td>\n",
       "      <td>0.738664</td>\n",
       "      <td>0.756293</td>\n",
       "      <td>0.761662</td>\n",
       "      <td>0.762036</td>\n",
       "    </tr>\n",
       "    <tr>\n",
       "      <th>max</th>\n",
       "      <td>0.999817</td>\n",
       "      <td>0.979957</td>\n",
       "      <td>0.999355</td>\n",
       "      <td>0.997177</td>\n",
       "      <td>0.999628</td>\n",
       "    </tr>\n",
       "  </tbody>\n",
       "</table>\n",
       "</div>"
      ],
      "text/plain": [
       "                0           1           2           3           4\n",
       "count  334.000000  334.000000  334.000000  334.000000  334.000000\n",
       "mean     0.483391    0.508635    0.490238    0.499162    0.502385\n",
       "std      0.305506    0.280067    0.293337    0.286824    0.295164\n",
       "min      0.002914    0.010463    0.001121    0.000067    0.003208\n",
       "25%      0.211938    0.278918    0.236802    0.225190    0.252706\n",
       "50%      0.450928    0.518573    0.475532    0.491566    0.502081\n",
       "75%      0.770664    0.738664    0.756293    0.761662    0.762036\n",
       "max      0.999817    0.979957    0.999355    0.997177    0.999628"
      ]
     },
     "execution_count": 25,
     "metadata": {},
     "output_type": "execute_result"
    }
   ],
   "source": [
    "newdf.describe()"
   ]
  },
  {
   "cell_type": "markdown",
   "id": "47474fb2",
   "metadata": {},
   "source": [
    "# Shows the Data Type of rows:"
   ]
  },
  {
   "cell_type": "code",
   "execution_count": 26,
   "id": "efb3cdf7",
   "metadata": {},
   "outputs": [
    {
     "data": {
      "text/plain": [
       "0    float64\n",
       "1    float64\n",
       "2    float64\n",
       "3    float64\n",
       "4    float64\n",
       "dtype: object"
      ]
     },
     "execution_count": 26,
     "metadata": {},
     "output_type": "execute_result"
    }
   ],
   "source": [
    "newdf.dtypes"
   ]
  },
  {
   "cell_type": "markdown",
   "id": "a1dce86b",
   "metadata": {},
   "source": [
    "*If I change first row's first element to string then it will change data type to object*"
   ]
  },
  {
   "cell_type": "code",
   "execution_count": 27,
   "id": "e71867bc",
   "metadata": {},
   "outputs": [
    {
     "name": "stderr",
     "output_type": "stream",
     "text": [
      "C:\\Users\\HASHIR\\AppData\\Local\\Temp\\ipykernel_5804\\1377992579.py:1: FutureWarning: Setting an item of incompatible dtype is deprecated and will raise in a future error of pandas. Value 'Pika' has dtype incompatible with float64, please explicitly cast to a compatible dtype first.\n",
      "  newdf[0][0]=\"Pika\"\n"
     ]
    }
   ],
   "source": [
    "newdf[0][0]=\"Pika\""
   ]
  },
  {
   "cell_type": "code",
   "execution_count": 28,
   "id": "ca07740f",
   "metadata": {},
   "outputs": [
    {
     "data": {
      "text/plain": [
       "0     object\n",
       "1    float64\n",
       "2    float64\n",
       "3    float64\n",
       "4    float64\n",
       "dtype: object"
      ]
     },
     "execution_count": 28,
     "metadata": {},
     "output_type": "execute_result"
    }
   ],
   "source": [
    "newdf.dtypes"
   ]
  },
  {
   "cell_type": "markdown",
   "id": "5302d78e",
   "metadata": {},
   "source": [
    "***See It changed to object***"
   ]
  },
  {
   "cell_type": "markdown",
   "id": "b8df5816",
   "metadata": {},
   "source": [
    "# How to change a dataframe to numpy array:"
   ]
  },
  {
   "cell_type": "code",
   "execution_count": 29,
   "id": "9c320028",
   "metadata": {},
   "outputs": [
    {
     "data": {
      "text/plain": [
       "array([['Pika', 0.7488953887630437, 0.21838319782651827,\n",
       "        0.9339287554988447, 0.5773273747841968],\n",
       "       [0.4502946034685785, 0.46454722004813853, 0.6510762898452945,\n",
       "        0.32480073108592844, 0.7332636490875806],\n",
       "       [0.18963161510381998, 0.3359333196416603, 0.5783607406726521,\n",
       "        0.7420724300062241, 0.055315155103207725],\n",
       "       ...,\n",
       "       [0.0945246261573709, 0.3909388958019919, 0.4581151782771128,\n",
       "        0.08413802080095678, 0.005680779995341889],\n",
       "       [0.08379537301536188, 0.8731621228561441, 0.7399912687099229,\n",
       "        0.9269146284027375, 0.8924992140108479],\n",
       "       [0.3213618825524054, 0.7193134901336294, 0.23185763318115982,\n",
       "        0.202792236901832, 0.33673228775749076]], dtype=object)"
      ]
     },
     "execution_count": 29,
     "metadata": {},
     "output_type": "execute_result"
    }
   ],
   "source": [
    "newdf.to_numpy()"
   ]
  },
  {
   "cell_type": "markdown",
   "id": "acaad778",
   "metadata": {},
   "source": [
    "***It is showing the dtype=object because of first string entry ( Pika )***"
   ]
  },
  {
   "cell_type": "markdown",
   "id": "4aa8137f",
   "metadata": {},
   "source": [
    "# Benefit to create it as numpy Array:"
   ]
  },
  {
   "cell_type": "markdown",
   "id": "9c95111a",
   "metadata": {},
   "source": [
    "***1 - You can take Transpose of whole dataframe***"
   ]
  },
  {
   "cell_type": "code",
   "execution_count": 30,
   "id": "89089e44",
   "metadata": {},
   "outputs": [
    {
     "data": {
      "text/html": [
       "<div>\n",
       "<style scoped>\n",
       "    .dataframe tbody tr th:only-of-type {\n",
       "        vertical-align: middle;\n",
       "    }\n",
       "\n",
       "    .dataframe tbody tr th {\n",
       "        vertical-align: top;\n",
       "    }\n",
       "\n",
       "    .dataframe thead th {\n",
       "        text-align: right;\n",
       "    }\n",
       "</style>\n",
       "<table border=\"1\" class=\"dataframe\">\n",
       "  <thead>\n",
       "    <tr style=\"text-align: right;\">\n",
       "      <th></th>\n",
       "      <th>0</th>\n",
       "      <th>1</th>\n",
       "      <th>2</th>\n",
       "      <th>3</th>\n",
       "      <th>4</th>\n",
       "      <th>5</th>\n",
       "      <th>6</th>\n",
       "      <th>7</th>\n",
       "      <th>8</th>\n",
       "      <th>9</th>\n",
       "      <th>...</th>\n",
       "      <th>324</th>\n",
       "      <th>325</th>\n",
       "      <th>326</th>\n",
       "      <th>327</th>\n",
       "      <th>328</th>\n",
       "      <th>329</th>\n",
       "      <th>330</th>\n",
       "      <th>331</th>\n",
       "      <th>332</th>\n",
       "      <th>333</th>\n",
       "    </tr>\n",
       "  </thead>\n",
       "  <tbody>\n",
       "    <tr>\n",
       "      <th>0</th>\n",
       "      <td>Pika</td>\n",
       "      <td>0.450295</td>\n",
       "      <td>0.189632</td>\n",
       "      <td>0.285339</td>\n",
       "      <td>0.334091</td>\n",
       "      <td>0.944163</td>\n",
       "      <td>0.77723</td>\n",
       "      <td>0.203345</td>\n",
       "      <td>0.521256</td>\n",
       "      <td>0.160199</td>\n",
       "      <td>...</td>\n",
       "      <td>0.675929</td>\n",
       "      <td>0.366473</td>\n",
       "      <td>0.521082</td>\n",
       "      <td>0.07393</td>\n",
       "      <td>0.689019</td>\n",
       "      <td>0.513628</td>\n",
       "      <td>0.036774</td>\n",
       "      <td>0.094525</td>\n",
       "      <td>0.083795</td>\n",
       "      <td>0.321362</td>\n",
       "    </tr>\n",
       "    <tr>\n",
       "      <th>1</th>\n",
       "      <td>0.748895</td>\n",
       "      <td>0.464547</td>\n",
       "      <td>0.335933</td>\n",
       "      <td>0.38921</td>\n",
       "      <td>0.047684</td>\n",
       "      <td>0.110801</td>\n",
       "      <td>0.370669</td>\n",
       "      <td>0.853331</td>\n",
       "      <td>0.348203</td>\n",
       "      <td>0.721145</td>\n",
       "      <td>...</td>\n",
       "      <td>0.327521</td>\n",
       "      <td>0.076126</td>\n",
       "      <td>0.411677</td>\n",
       "      <td>0.485092</td>\n",
       "      <td>0.033804</td>\n",
       "      <td>0.532974</td>\n",
       "      <td>0.322895</td>\n",
       "      <td>0.390939</td>\n",
       "      <td>0.873162</td>\n",
       "      <td>0.719313</td>\n",
       "    </tr>\n",
       "    <tr>\n",
       "      <th>2</th>\n",
       "      <td>0.218383</td>\n",
       "      <td>0.651076</td>\n",
       "      <td>0.578361</td>\n",
       "      <td>0.232521</td>\n",
       "      <td>0.8761</td>\n",
       "      <td>0.220325</td>\n",
       "      <td>0.738194</td>\n",
       "      <td>0.262369</td>\n",
       "      <td>0.216393</td>\n",
       "      <td>0.934133</td>\n",
       "      <td>...</td>\n",
       "      <td>0.55767</td>\n",
       "      <td>0.781421</td>\n",
       "      <td>0.321584</td>\n",
       "      <td>0.863503</td>\n",
       "      <td>0.955093</td>\n",
       "      <td>0.130179</td>\n",
       "      <td>0.503665</td>\n",
       "      <td>0.458115</td>\n",
       "      <td>0.739991</td>\n",
       "      <td>0.231858</td>\n",
       "    </tr>\n",
       "    <tr>\n",
       "      <th>3</th>\n",
       "      <td>0.933929</td>\n",
       "      <td>0.324801</td>\n",
       "      <td>0.742072</td>\n",
       "      <td>0.310403</td>\n",
       "      <td>0.083725</td>\n",
       "      <td>0.438155</td>\n",
       "      <td>0.018127</td>\n",
       "      <td>0.784523</td>\n",
       "      <td>0.916305</td>\n",
       "      <td>0.939323</td>\n",
       "      <td>...</td>\n",
       "      <td>0.305299</td>\n",
       "      <td>0.382939</td>\n",
       "      <td>0.573858</td>\n",
       "      <td>0.211164</td>\n",
       "      <td>0.481763</td>\n",
       "      <td>0.832103</td>\n",
       "      <td>0.872864</td>\n",
       "      <td>0.084138</td>\n",
       "      <td>0.926915</td>\n",
       "      <td>0.202792</td>\n",
       "    </tr>\n",
       "    <tr>\n",
       "      <th>4</th>\n",
       "      <td>0.577327</td>\n",
       "      <td>0.733264</td>\n",
       "      <td>0.055315</td>\n",
       "      <td>0.966078</td>\n",
       "      <td>0.470397</td>\n",
       "      <td>0.337468</td>\n",
       "      <td>0.261794</td>\n",
       "      <td>0.163839</td>\n",
       "      <td>0.648069</td>\n",
       "      <td>0.213783</td>\n",
       "      <td>...</td>\n",
       "      <td>0.674041</td>\n",
       "      <td>0.876594</td>\n",
       "      <td>0.653979</td>\n",
       "      <td>0.649483</td>\n",
       "      <td>0.334253</td>\n",
       "      <td>0.630622</td>\n",
       "      <td>0.806835</td>\n",
       "      <td>0.005681</td>\n",
       "      <td>0.892499</td>\n",
       "      <td>0.336732</td>\n",
       "    </tr>\n",
       "  </tbody>\n",
       "</table>\n",
       "<p>5 rows × 334 columns</p>\n",
       "</div>"
      ],
      "text/plain": [
       "        0         1         2         3         4         5         6    \\\n",
       "0      Pika  0.450295  0.189632  0.285339  0.334091  0.944163   0.77723   \n",
       "1  0.748895  0.464547  0.335933   0.38921  0.047684  0.110801  0.370669   \n",
       "2  0.218383  0.651076  0.578361  0.232521    0.8761  0.220325  0.738194   \n",
       "3  0.933929  0.324801  0.742072  0.310403  0.083725  0.438155  0.018127   \n",
       "4  0.577327  0.733264  0.055315  0.966078  0.470397  0.337468  0.261794   \n",
       "\n",
       "        7         8         9    ...       324       325       326       327  \\\n",
       "0  0.203345  0.521256  0.160199  ...  0.675929  0.366473  0.521082   0.07393   \n",
       "1  0.853331  0.348203  0.721145  ...  0.327521  0.076126  0.411677  0.485092   \n",
       "2  0.262369  0.216393  0.934133  ...   0.55767  0.781421  0.321584  0.863503   \n",
       "3  0.784523  0.916305  0.939323  ...  0.305299  0.382939  0.573858  0.211164   \n",
       "4  0.163839  0.648069  0.213783  ...  0.674041  0.876594  0.653979  0.649483   \n",
       "\n",
       "        328       329       330       331       332       333  \n",
       "0  0.689019  0.513628  0.036774  0.094525  0.083795  0.321362  \n",
       "1  0.033804  0.532974  0.322895  0.390939  0.873162  0.719313  \n",
       "2  0.955093  0.130179  0.503665  0.458115  0.739991  0.231858  \n",
       "3  0.481763  0.832103  0.872864  0.084138  0.926915  0.202792  \n",
       "4  0.334253  0.630622  0.806835  0.005681  0.892499  0.336732  \n",
       "\n",
       "[5 rows x 334 columns]"
      ]
     },
     "execution_count": 30,
     "metadata": {},
     "output_type": "execute_result"
    }
   ],
   "source": [
    "newdf.T"
   ]
  },
  {
   "cell_type": "markdown",
   "id": "f9ff65c3",
   "metadata": {},
   "source": [
    "***Previously it was 334 rows and 5 columns, Now It have 5 rows and 334 columns becuase we took transpose***"
   ]
  },
  {
   "cell_type": "markdown",
   "id": "ae4c70e9",
   "metadata": {},
   "source": [
    "***2- Sort the array ascending or descending***"
   ]
  },
  {
   "cell_type": "markdown",
   "id": "93b113c8",
   "metadata": {},
   "source": [
    "*Descending:*"
   ]
  },
  {
   "cell_type": "code",
   "execution_count": 31,
   "id": "dd30e1ea",
   "metadata": {},
   "outputs": [
    {
     "data": {
      "text/html": [
       "<div>\n",
       "<style scoped>\n",
       "    .dataframe tbody tr th:only-of-type {\n",
       "        vertical-align: middle;\n",
       "    }\n",
       "\n",
       "    .dataframe tbody tr th {\n",
       "        vertical-align: top;\n",
       "    }\n",
       "\n",
       "    .dataframe thead th {\n",
       "        text-align: right;\n",
       "    }\n",
       "</style>\n",
       "<table border=\"1\" class=\"dataframe\">\n",
       "  <thead>\n",
       "    <tr style=\"text-align: right;\">\n",
       "      <th></th>\n",
       "      <th>0</th>\n",
       "      <th>1</th>\n",
       "      <th>2</th>\n",
       "      <th>3</th>\n",
       "      <th>4</th>\n",
       "    </tr>\n",
       "  </thead>\n",
       "  <tbody>\n",
       "    <tr>\n",
       "      <th>333</th>\n",
       "      <td>0.321362</td>\n",
       "      <td>0.719313</td>\n",
       "      <td>0.231858</td>\n",
       "      <td>0.202792</td>\n",
       "      <td>0.336732</td>\n",
       "    </tr>\n",
       "    <tr>\n",
       "      <th>332</th>\n",
       "      <td>0.083795</td>\n",
       "      <td>0.873162</td>\n",
       "      <td>0.739991</td>\n",
       "      <td>0.926915</td>\n",
       "      <td>0.892499</td>\n",
       "    </tr>\n",
       "    <tr>\n",
       "      <th>331</th>\n",
       "      <td>0.094525</td>\n",
       "      <td>0.390939</td>\n",
       "      <td>0.458115</td>\n",
       "      <td>0.084138</td>\n",
       "      <td>0.005681</td>\n",
       "    </tr>\n",
       "    <tr>\n",
       "      <th>330</th>\n",
       "      <td>0.036774</td>\n",
       "      <td>0.322895</td>\n",
       "      <td>0.503665</td>\n",
       "      <td>0.872864</td>\n",
       "      <td>0.806835</td>\n",
       "    </tr>\n",
       "    <tr>\n",
       "      <th>329</th>\n",
       "      <td>0.513628</td>\n",
       "      <td>0.532974</td>\n",
       "      <td>0.130179</td>\n",
       "      <td>0.832103</td>\n",
       "      <td>0.630622</td>\n",
       "    </tr>\n",
       "    <tr>\n",
       "      <th>...</th>\n",
       "      <td>...</td>\n",
       "      <td>...</td>\n",
       "      <td>...</td>\n",
       "      <td>...</td>\n",
       "      <td>...</td>\n",
       "    </tr>\n",
       "    <tr>\n",
       "      <th>4</th>\n",
       "      <td>0.334091</td>\n",
       "      <td>0.047684</td>\n",
       "      <td>0.876100</td>\n",
       "      <td>0.083725</td>\n",
       "      <td>0.470397</td>\n",
       "    </tr>\n",
       "    <tr>\n",
       "      <th>3</th>\n",
       "      <td>0.285339</td>\n",
       "      <td>0.389210</td>\n",
       "      <td>0.232521</td>\n",
       "      <td>0.310403</td>\n",
       "      <td>0.966078</td>\n",
       "    </tr>\n",
       "    <tr>\n",
       "      <th>2</th>\n",
       "      <td>0.189632</td>\n",
       "      <td>0.335933</td>\n",
       "      <td>0.578361</td>\n",
       "      <td>0.742072</td>\n",
       "      <td>0.055315</td>\n",
       "    </tr>\n",
       "    <tr>\n",
       "      <th>1</th>\n",
       "      <td>0.450295</td>\n",
       "      <td>0.464547</td>\n",
       "      <td>0.651076</td>\n",
       "      <td>0.324801</td>\n",
       "      <td>0.733264</td>\n",
       "    </tr>\n",
       "    <tr>\n",
       "      <th>0</th>\n",
       "      <td>Pika</td>\n",
       "      <td>0.748895</td>\n",
       "      <td>0.218383</td>\n",
       "      <td>0.933929</td>\n",
       "      <td>0.577327</td>\n",
       "    </tr>\n",
       "  </tbody>\n",
       "</table>\n",
       "<p>334 rows × 5 columns</p>\n",
       "</div>"
      ],
      "text/plain": [
       "            0         1         2         3         4\n",
       "333  0.321362  0.719313  0.231858  0.202792  0.336732\n",
       "332  0.083795  0.873162  0.739991  0.926915  0.892499\n",
       "331  0.094525  0.390939  0.458115  0.084138  0.005681\n",
       "330  0.036774  0.322895  0.503665  0.872864  0.806835\n",
       "329  0.513628  0.532974  0.130179  0.832103  0.630622\n",
       "..        ...       ...       ...       ...       ...\n",
       "4    0.334091  0.047684  0.876100  0.083725  0.470397\n",
       "3    0.285339  0.389210  0.232521  0.310403  0.966078\n",
       "2    0.189632  0.335933  0.578361  0.742072  0.055315\n",
       "1    0.450295  0.464547  0.651076  0.324801  0.733264\n",
       "0        Pika  0.748895  0.218383  0.933929  0.577327\n",
       "\n",
       "[334 rows x 5 columns]"
      ]
     },
     "execution_count": 31,
     "metadata": {},
     "output_type": "execute_result"
    }
   ],
   "source": [
    "newdf.sort_index(axis=0,ascending=False)"
   ]
  },
  {
   "cell_type": "markdown",
   "id": "1ace8865",
   "metadata": {},
   "source": [
    "*Ascending:*"
   ]
  },
  {
   "cell_type": "code",
   "execution_count": 32,
   "id": "3b270cf6",
   "metadata": {},
   "outputs": [
    {
     "data": {
      "text/html": [
       "<div>\n",
       "<style scoped>\n",
       "    .dataframe tbody tr th:only-of-type {\n",
       "        vertical-align: middle;\n",
       "    }\n",
       "\n",
       "    .dataframe tbody tr th {\n",
       "        vertical-align: top;\n",
       "    }\n",
       "\n",
       "    .dataframe thead th {\n",
       "        text-align: right;\n",
       "    }\n",
       "</style>\n",
       "<table border=\"1\" class=\"dataframe\">\n",
       "  <thead>\n",
       "    <tr style=\"text-align: right;\">\n",
       "      <th></th>\n",
       "      <th>0</th>\n",
       "      <th>1</th>\n",
       "      <th>2</th>\n",
       "      <th>3</th>\n",
       "      <th>4</th>\n",
       "    </tr>\n",
       "  </thead>\n",
       "  <tbody>\n",
       "    <tr>\n",
       "      <th>0</th>\n",
       "      <td>Pika</td>\n",
       "      <td>0.748895</td>\n",
       "      <td>0.218383</td>\n",
       "      <td>0.933929</td>\n",
       "      <td>0.577327</td>\n",
       "    </tr>\n",
       "    <tr>\n",
       "      <th>1</th>\n",
       "      <td>0.450295</td>\n",
       "      <td>0.464547</td>\n",
       "      <td>0.651076</td>\n",
       "      <td>0.324801</td>\n",
       "      <td>0.733264</td>\n",
       "    </tr>\n",
       "    <tr>\n",
       "      <th>2</th>\n",
       "      <td>0.189632</td>\n",
       "      <td>0.335933</td>\n",
       "      <td>0.578361</td>\n",
       "      <td>0.742072</td>\n",
       "      <td>0.055315</td>\n",
       "    </tr>\n",
       "    <tr>\n",
       "      <th>3</th>\n",
       "      <td>0.285339</td>\n",
       "      <td>0.389210</td>\n",
       "      <td>0.232521</td>\n",
       "      <td>0.310403</td>\n",
       "      <td>0.966078</td>\n",
       "    </tr>\n",
       "    <tr>\n",
       "      <th>4</th>\n",
       "      <td>0.334091</td>\n",
       "      <td>0.047684</td>\n",
       "      <td>0.876100</td>\n",
       "      <td>0.083725</td>\n",
       "      <td>0.470397</td>\n",
       "    </tr>\n",
       "    <tr>\n",
       "      <th>...</th>\n",
       "      <td>...</td>\n",
       "      <td>...</td>\n",
       "      <td>...</td>\n",
       "      <td>...</td>\n",
       "      <td>...</td>\n",
       "    </tr>\n",
       "    <tr>\n",
       "      <th>329</th>\n",
       "      <td>0.513628</td>\n",
       "      <td>0.532974</td>\n",
       "      <td>0.130179</td>\n",
       "      <td>0.832103</td>\n",
       "      <td>0.630622</td>\n",
       "    </tr>\n",
       "    <tr>\n",
       "      <th>330</th>\n",
       "      <td>0.036774</td>\n",
       "      <td>0.322895</td>\n",
       "      <td>0.503665</td>\n",
       "      <td>0.872864</td>\n",
       "      <td>0.806835</td>\n",
       "    </tr>\n",
       "    <tr>\n",
       "      <th>331</th>\n",
       "      <td>0.094525</td>\n",
       "      <td>0.390939</td>\n",
       "      <td>0.458115</td>\n",
       "      <td>0.084138</td>\n",
       "      <td>0.005681</td>\n",
       "    </tr>\n",
       "    <tr>\n",
       "      <th>332</th>\n",
       "      <td>0.083795</td>\n",
       "      <td>0.873162</td>\n",
       "      <td>0.739991</td>\n",
       "      <td>0.926915</td>\n",
       "      <td>0.892499</td>\n",
       "    </tr>\n",
       "    <tr>\n",
       "      <th>333</th>\n",
       "      <td>0.321362</td>\n",
       "      <td>0.719313</td>\n",
       "      <td>0.231858</td>\n",
       "      <td>0.202792</td>\n",
       "      <td>0.336732</td>\n",
       "    </tr>\n",
       "  </tbody>\n",
       "</table>\n",
       "<p>334 rows × 5 columns</p>\n",
       "</div>"
      ],
      "text/plain": [
       "            0         1         2         3         4\n",
       "0        Pika  0.748895  0.218383  0.933929  0.577327\n",
       "1    0.450295  0.464547  0.651076  0.324801  0.733264\n",
       "2    0.189632  0.335933  0.578361  0.742072  0.055315\n",
       "3    0.285339  0.389210  0.232521  0.310403  0.966078\n",
       "4    0.334091  0.047684  0.876100  0.083725  0.470397\n",
       "..        ...       ...       ...       ...       ...\n",
       "329  0.513628  0.532974  0.130179  0.832103  0.630622\n",
       "330  0.036774  0.322895  0.503665  0.872864  0.806835\n",
       "331  0.094525  0.390939  0.458115  0.084138  0.005681\n",
       "332  0.083795  0.873162  0.739991  0.926915  0.892499\n",
       "333  0.321362  0.719313  0.231858  0.202792  0.336732\n",
       "\n",
       "[334 rows x 5 columns]"
      ]
     },
     "execution_count": 32,
     "metadata": {},
     "output_type": "execute_result"
    }
   ],
   "source": [
    "newdf.sort_index(axis=0)"
   ]
  },
  {
   "cell_type": "markdown",
   "id": "1a3ea437",
   "metadata": {},
   "source": [
    "*Sorting in column,,, Just add axis=1*"
   ]
  },
  {
   "cell_type": "code",
   "execution_count": 33,
   "id": "de3c9922",
   "metadata": {},
   "outputs": [
    {
     "data": {
      "text/html": [
       "<div>\n",
       "<style scoped>\n",
       "    .dataframe tbody tr th:only-of-type {\n",
       "        vertical-align: middle;\n",
       "    }\n",
       "\n",
       "    .dataframe tbody tr th {\n",
       "        vertical-align: top;\n",
       "    }\n",
       "\n",
       "    .dataframe thead th {\n",
       "        text-align: right;\n",
       "    }\n",
       "</style>\n",
       "<table border=\"1\" class=\"dataframe\">\n",
       "  <thead>\n",
       "    <tr style=\"text-align: right;\">\n",
       "      <th></th>\n",
       "      <th>4</th>\n",
       "      <th>3</th>\n",
       "      <th>2</th>\n",
       "      <th>1</th>\n",
       "      <th>0</th>\n",
       "    </tr>\n",
       "  </thead>\n",
       "  <tbody>\n",
       "    <tr>\n",
       "      <th>0</th>\n",
       "      <td>0.577327</td>\n",
       "      <td>0.933929</td>\n",
       "      <td>0.218383</td>\n",
       "      <td>0.748895</td>\n",
       "      <td>Pika</td>\n",
       "    </tr>\n",
       "    <tr>\n",
       "      <th>1</th>\n",
       "      <td>0.733264</td>\n",
       "      <td>0.324801</td>\n",
       "      <td>0.651076</td>\n",
       "      <td>0.464547</td>\n",
       "      <td>0.450295</td>\n",
       "    </tr>\n",
       "    <tr>\n",
       "      <th>2</th>\n",
       "      <td>0.055315</td>\n",
       "      <td>0.742072</td>\n",
       "      <td>0.578361</td>\n",
       "      <td>0.335933</td>\n",
       "      <td>0.189632</td>\n",
       "    </tr>\n",
       "    <tr>\n",
       "      <th>3</th>\n",
       "      <td>0.966078</td>\n",
       "      <td>0.310403</td>\n",
       "      <td>0.232521</td>\n",
       "      <td>0.389210</td>\n",
       "      <td>0.285339</td>\n",
       "    </tr>\n",
       "    <tr>\n",
       "      <th>4</th>\n",
       "      <td>0.470397</td>\n",
       "      <td>0.083725</td>\n",
       "      <td>0.876100</td>\n",
       "      <td>0.047684</td>\n",
       "      <td>0.334091</td>\n",
       "    </tr>\n",
       "    <tr>\n",
       "      <th>...</th>\n",
       "      <td>...</td>\n",
       "      <td>...</td>\n",
       "      <td>...</td>\n",
       "      <td>...</td>\n",
       "      <td>...</td>\n",
       "    </tr>\n",
       "    <tr>\n",
       "      <th>329</th>\n",
       "      <td>0.630622</td>\n",
       "      <td>0.832103</td>\n",
       "      <td>0.130179</td>\n",
       "      <td>0.532974</td>\n",
       "      <td>0.513628</td>\n",
       "    </tr>\n",
       "    <tr>\n",
       "      <th>330</th>\n",
       "      <td>0.806835</td>\n",
       "      <td>0.872864</td>\n",
       "      <td>0.503665</td>\n",
       "      <td>0.322895</td>\n",
       "      <td>0.036774</td>\n",
       "    </tr>\n",
       "    <tr>\n",
       "      <th>331</th>\n",
       "      <td>0.005681</td>\n",
       "      <td>0.084138</td>\n",
       "      <td>0.458115</td>\n",
       "      <td>0.390939</td>\n",
       "      <td>0.094525</td>\n",
       "    </tr>\n",
       "    <tr>\n",
       "      <th>332</th>\n",
       "      <td>0.892499</td>\n",
       "      <td>0.926915</td>\n",
       "      <td>0.739991</td>\n",
       "      <td>0.873162</td>\n",
       "      <td>0.083795</td>\n",
       "    </tr>\n",
       "    <tr>\n",
       "      <th>333</th>\n",
       "      <td>0.336732</td>\n",
       "      <td>0.202792</td>\n",
       "      <td>0.231858</td>\n",
       "      <td>0.719313</td>\n",
       "      <td>0.321362</td>\n",
       "    </tr>\n",
       "  </tbody>\n",
       "</table>\n",
       "<p>334 rows × 5 columns</p>\n",
       "</div>"
      ],
      "text/plain": [
       "            4         3         2         1         0\n",
       "0    0.577327  0.933929  0.218383  0.748895      Pika\n",
       "1    0.733264  0.324801  0.651076  0.464547  0.450295\n",
       "2    0.055315  0.742072  0.578361  0.335933  0.189632\n",
       "3    0.966078  0.310403  0.232521  0.389210  0.285339\n",
       "4    0.470397  0.083725  0.876100  0.047684  0.334091\n",
       "..        ...       ...       ...       ...       ...\n",
       "329  0.630622  0.832103  0.130179  0.532974  0.513628\n",
       "330  0.806835  0.872864  0.503665  0.322895  0.036774\n",
       "331  0.005681  0.084138  0.458115  0.390939  0.094525\n",
       "332  0.892499  0.926915  0.739991  0.873162  0.083795\n",
       "333  0.336732  0.202792  0.231858  0.719313  0.321362\n",
       "\n",
       "[334 rows x 5 columns]"
      ]
     },
     "execution_count": 33,
     "metadata": {},
     "output_type": "execute_result"
    }
   ],
   "source": [
    "newdf.sort_index(axis=1,ascending=False)"
   ]
  },
  {
   "cell_type": "code",
   "execution_count": 34,
   "id": "be57b40d",
   "metadata": {},
   "outputs": [
    {
     "data": {
      "text/html": [
       "<div>\n",
       "<style scoped>\n",
       "    .dataframe tbody tr th:only-of-type {\n",
       "        vertical-align: middle;\n",
       "    }\n",
       "\n",
       "    .dataframe tbody tr th {\n",
       "        vertical-align: top;\n",
       "    }\n",
       "\n",
       "    .dataframe thead th {\n",
       "        text-align: right;\n",
       "    }\n",
       "</style>\n",
       "<table border=\"1\" class=\"dataframe\">\n",
       "  <thead>\n",
       "    <tr style=\"text-align: right;\">\n",
       "      <th></th>\n",
       "      <th>0</th>\n",
       "      <th>1</th>\n",
       "      <th>2</th>\n",
       "      <th>3</th>\n",
       "      <th>4</th>\n",
       "    </tr>\n",
       "  </thead>\n",
       "  <tbody>\n",
       "    <tr>\n",
       "      <th>0</th>\n",
       "      <td>Pika</td>\n",
       "      <td>0.748895</td>\n",
       "      <td>0.218383</td>\n",
       "      <td>0.933929</td>\n",
       "      <td>0.577327</td>\n",
       "    </tr>\n",
       "    <tr>\n",
       "      <th>1</th>\n",
       "      <td>0.450295</td>\n",
       "      <td>0.464547</td>\n",
       "      <td>0.651076</td>\n",
       "      <td>0.324801</td>\n",
       "      <td>0.733264</td>\n",
       "    </tr>\n",
       "    <tr>\n",
       "      <th>2</th>\n",
       "      <td>0.189632</td>\n",
       "      <td>0.335933</td>\n",
       "      <td>0.578361</td>\n",
       "      <td>0.742072</td>\n",
       "      <td>0.055315</td>\n",
       "    </tr>\n",
       "    <tr>\n",
       "      <th>3</th>\n",
       "      <td>0.285339</td>\n",
       "      <td>0.389210</td>\n",
       "      <td>0.232521</td>\n",
       "      <td>0.310403</td>\n",
       "      <td>0.966078</td>\n",
       "    </tr>\n",
       "    <tr>\n",
       "      <th>4</th>\n",
       "      <td>0.334091</td>\n",
       "      <td>0.047684</td>\n",
       "      <td>0.876100</td>\n",
       "      <td>0.083725</td>\n",
       "      <td>0.470397</td>\n",
       "    </tr>\n",
       "  </tbody>\n",
       "</table>\n",
       "</div>"
      ],
      "text/plain": [
       "          0         1         2         3         4\n",
       "0      Pika  0.748895  0.218383  0.933929  0.577327\n",
       "1  0.450295  0.464547  0.651076  0.324801  0.733264\n",
       "2  0.189632  0.335933  0.578361  0.742072  0.055315\n",
       "3  0.285339  0.389210  0.232521  0.310403  0.966078\n",
       "4  0.334091  0.047684  0.876100  0.083725  0.470397"
      ]
     },
     "execution_count": 34,
     "metadata": {},
     "output_type": "execute_result"
    }
   ],
   "source": [
    "newdf.head()"
   ]
  },
  {
   "cell_type": "code",
   "execution_count": 35,
   "id": "78dd9839",
   "metadata": {},
   "outputs": [
    {
     "data": {
      "text/plain": [
       "pandas.core.series.Series"
      ]
     },
     "execution_count": 35,
     "metadata": {},
     "output_type": "execute_result"
    }
   ],
   "source": [
    "type(newdf[0])"
   ]
  },
  {
   "cell_type": "markdown",
   "id": "5b471fe3",
   "metadata": {},
   "source": [
    "***It means when we get column it returns a Series***"
   ]
  },
  {
   "cell_type": "markdown",
   "id": "6fb84885",
   "metadata": {},
   "source": [
    "*-------------------------------------------------------------------------------------------*"
   ]
  },
  {
   "cell_type": "markdown",
   "id": "0a4dce06",
   "metadata": {},
   "source": [
    "# To copy a df variable to another vaiable"
   ]
  },
  {
   "cell_type": "code",
   "execution_count": 36,
   "id": "8fde0d7a",
   "metadata": {},
   "outputs": [],
   "source": [
    "newdf2 = newdf"
   ]
  },
  {
   "cell_type": "code",
   "execution_count": 37,
   "id": "319288ef",
   "metadata": {},
   "outputs": [
    {
     "name": "stderr",
     "output_type": "stream",
     "text": [
      "C:\\Users\\HASHIR\\AppData\\Local\\Temp\\ipykernel_5804\\1463849847.py:1: SettingWithCopyWarning: \n",
      "A value is trying to be set on a copy of a slice from a DataFrame\n",
      "\n",
      "See the caveats in the documentation: https://pandas.pydata.org/pandas-docs/stable/user_guide/indexing.html#returning-a-view-versus-a-copy\n",
      "  newdf2[0][0]=223\n"
     ]
    }
   ],
   "source": [
    "newdf2[0][0]=223"
   ]
  },
  {
   "cell_type": "markdown",
   "id": "52ed2925",
   "metadata": {},
   "source": [
    "*Now check the original var ,,, am writing .head() because i don't want to see full data*"
   ]
  },
  {
   "cell_type": "code",
   "execution_count": 38,
   "id": "de113dda",
   "metadata": {},
   "outputs": [
    {
     "data": {
      "text/html": [
       "<div>\n",
       "<style scoped>\n",
       "    .dataframe tbody tr th:only-of-type {\n",
       "        vertical-align: middle;\n",
       "    }\n",
       "\n",
       "    .dataframe tbody tr th {\n",
       "        vertical-align: top;\n",
       "    }\n",
       "\n",
       "    .dataframe thead th {\n",
       "        text-align: right;\n",
       "    }\n",
       "</style>\n",
       "<table border=\"1\" class=\"dataframe\">\n",
       "  <thead>\n",
       "    <tr style=\"text-align: right;\">\n",
       "      <th></th>\n",
       "      <th>0</th>\n",
       "      <th>1</th>\n",
       "      <th>2</th>\n",
       "      <th>3</th>\n",
       "      <th>4</th>\n",
       "    </tr>\n",
       "  </thead>\n",
       "  <tbody>\n",
       "    <tr>\n",
       "      <th>0</th>\n",
       "      <td>223</td>\n",
       "      <td>0.748895</td>\n",
       "      <td>0.218383</td>\n",
       "      <td>0.933929</td>\n",
       "      <td>0.577327</td>\n",
       "    </tr>\n",
       "    <tr>\n",
       "      <th>1</th>\n",
       "      <td>0.450295</td>\n",
       "      <td>0.464547</td>\n",
       "      <td>0.651076</td>\n",
       "      <td>0.324801</td>\n",
       "      <td>0.733264</td>\n",
       "    </tr>\n",
       "    <tr>\n",
       "      <th>2</th>\n",
       "      <td>0.189632</td>\n",
       "      <td>0.335933</td>\n",
       "      <td>0.578361</td>\n",
       "      <td>0.742072</td>\n",
       "      <td>0.055315</td>\n",
       "    </tr>\n",
       "    <tr>\n",
       "      <th>3</th>\n",
       "      <td>0.285339</td>\n",
       "      <td>0.389210</td>\n",
       "      <td>0.232521</td>\n",
       "      <td>0.310403</td>\n",
       "      <td>0.966078</td>\n",
       "    </tr>\n",
       "    <tr>\n",
       "      <th>4</th>\n",
       "      <td>0.334091</td>\n",
       "      <td>0.047684</td>\n",
       "      <td>0.876100</td>\n",
       "      <td>0.083725</td>\n",
       "      <td>0.470397</td>\n",
       "    </tr>\n",
       "  </tbody>\n",
       "</table>\n",
       "</div>"
      ],
      "text/plain": [
       "          0         1         2         3         4\n",
       "0       223  0.748895  0.218383  0.933929  0.577327\n",
       "1  0.450295  0.464547  0.651076  0.324801  0.733264\n",
       "2  0.189632  0.335933  0.578361  0.742072  0.055315\n",
       "3  0.285339  0.389210  0.232521  0.310403  0.966078\n",
       "4  0.334091  0.047684  0.876100  0.083725  0.470397"
      ]
     },
     "execution_count": 38,
     "metadata": {},
     "output_type": "execute_result"
    }
   ],
   "source": [
    "newdf.head()"
   ]
  },
  {
   "cell_type": "markdown",
   "id": "f1e2aa29",
   "metadata": {},
   "source": [
    "**See, It didn't made a copy..it is like a view but not a copy**"
   ]
  },
  {
   "cell_type": "markdown",
   "id": "627445a5",
   "metadata": {},
   "source": [
    "**To make it a copy, you should do this:**"
   ]
  },
  {
   "cell_type": "code",
   "execution_count": 39,
   "id": "abb5fa43",
   "metadata": {},
   "outputs": [],
   "source": [
    "newdf2=newdf.copy()"
   ]
  },
  {
   "cell_type": "code",
   "execution_count": 40,
   "id": "e8b504fe",
   "metadata": {},
   "outputs": [
    {
     "name": "stderr",
     "output_type": "stream",
     "text": [
      "C:\\Users\\HASHIR\\AppData\\Local\\Temp\\ipykernel_5804\\436856873.py:1: SettingWithCopyWarning: \n",
      "A value is trying to be set on a copy of a slice from a DataFrame\n",
      "\n",
      "See the caveats in the documentation: https://pandas.pydata.org/pandas-docs/stable/user_guide/indexing.html#returning-a-view-versus-a-copy\n",
      "  newdf2[0][0]=\"Pikaboo\"\n"
     ]
    }
   ],
   "source": [
    "newdf2[0][0]=\"Pikaboo\""
   ]
  },
  {
   "cell_type": "code",
   "execution_count": 41,
   "id": "db8a6605",
   "metadata": {},
   "outputs": [
    {
     "data": {
      "text/html": [
       "<div>\n",
       "<style scoped>\n",
       "    .dataframe tbody tr th:only-of-type {\n",
       "        vertical-align: middle;\n",
       "    }\n",
       "\n",
       "    .dataframe tbody tr th {\n",
       "        vertical-align: top;\n",
       "    }\n",
       "\n",
       "    .dataframe thead th {\n",
       "        text-align: right;\n",
       "    }\n",
       "</style>\n",
       "<table border=\"1\" class=\"dataframe\">\n",
       "  <thead>\n",
       "    <tr style=\"text-align: right;\">\n",
       "      <th></th>\n",
       "      <th>0</th>\n",
       "      <th>1</th>\n",
       "      <th>2</th>\n",
       "      <th>3</th>\n",
       "      <th>4</th>\n",
       "    </tr>\n",
       "  </thead>\n",
       "  <tbody>\n",
       "    <tr>\n",
       "      <th>0</th>\n",
       "      <td>223</td>\n",
       "      <td>0.748895</td>\n",
       "      <td>0.218383</td>\n",
       "      <td>0.933929</td>\n",
       "      <td>0.577327</td>\n",
       "    </tr>\n",
       "    <tr>\n",
       "      <th>1</th>\n",
       "      <td>0.450295</td>\n",
       "      <td>0.464547</td>\n",
       "      <td>0.651076</td>\n",
       "      <td>0.324801</td>\n",
       "      <td>0.733264</td>\n",
       "    </tr>\n",
       "    <tr>\n",
       "      <th>2</th>\n",
       "      <td>0.189632</td>\n",
       "      <td>0.335933</td>\n",
       "      <td>0.578361</td>\n",
       "      <td>0.742072</td>\n",
       "      <td>0.055315</td>\n",
       "    </tr>\n",
       "    <tr>\n",
       "      <th>3</th>\n",
       "      <td>0.285339</td>\n",
       "      <td>0.389210</td>\n",
       "      <td>0.232521</td>\n",
       "      <td>0.310403</td>\n",
       "      <td>0.966078</td>\n",
       "    </tr>\n",
       "    <tr>\n",
       "      <th>4</th>\n",
       "      <td>0.334091</td>\n",
       "      <td>0.047684</td>\n",
       "      <td>0.876100</td>\n",
       "      <td>0.083725</td>\n",
       "      <td>0.470397</td>\n",
       "    </tr>\n",
       "  </tbody>\n",
       "</table>\n",
       "</div>"
      ],
      "text/plain": [
       "          0         1         2         3         4\n",
       "0       223  0.748895  0.218383  0.933929  0.577327\n",
       "1  0.450295  0.464547  0.651076  0.324801  0.733264\n",
       "2  0.189632  0.335933  0.578361  0.742072  0.055315\n",
       "3  0.285339  0.389210  0.232521  0.310403  0.966078\n",
       "4  0.334091  0.047684  0.876100  0.083725  0.470397"
      ]
     },
     "execution_count": 41,
     "metadata": {},
     "output_type": "execute_result"
    }
   ],
   "source": [
    "newdf.head()"
   ]
  },
  {
   "cell_type": "markdown",
   "id": "0c63e73f",
   "metadata": {},
   "source": [
    "**See, it didn't changed the original one**"
   ]
  },
  {
   "cell_type": "code",
   "execution_count": 42,
   "id": "6aac36e2",
   "metadata": {
    "scrolled": true
   },
   "outputs": [
    {
     "data": {
      "text/html": [
       "<div>\n",
       "<style scoped>\n",
       "    .dataframe tbody tr th:only-of-type {\n",
       "        vertical-align: middle;\n",
       "    }\n",
       "\n",
       "    .dataframe tbody tr th {\n",
       "        vertical-align: top;\n",
       "    }\n",
       "\n",
       "    .dataframe thead th {\n",
       "        text-align: right;\n",
       "    }\n",
       "</style>\n",
       "<table border=\"1\" class=\"dataframe\">\n",
       "  <thead>\n",
       "    <tr style=\"text-align: right;\">\n",
       "      <th></th>\n",
       "      <th>0</th>\n",
       "      <th>1</th>\n",
       "      <th>2</th>\n",
       "      <th>3</th>\n",
       "      <th>4</th>\n",
       "    </tr>\n",
       "  </thead>\n",
       "  <tbody>\n",
       "    <tr>\n",
       "      <th>0</th>\n",
       "      <td>223</td>\n",
       "      <td>0.748895</td>\n",
       "      <td>0.218383</td>\n",
       "      <td>0.933929</td>\n",
       "      <td>0.577327</td>\n",
       "    </tr>\n",
       "    <tr>\n",
       "      <th>1</th>\n",
       "      <td>0.450295</td>\n",
       "      <td>0.464547</td>\n",
       "      <td>0.651076</td>\n",
       "      <td>0.324801</td>\n",
       "      <td>0.733264</td>\n",
       "    </tr>\n",
       "  </tbody>\n",
       "</table>\n",
       "</div>"
      ],
      "text/plain": [
       "          0         1         2         3         4\n",
       "0       223  0.748895  0.218383  0.933929  0.577327\n",
       "1  0.450295  0.464547  0.651076  0.324801  0.733264"
      ]
     },
     "execution_count": 42,
     "metadata": {},
     "output_type": "execute_result"
    }
   ],
   "source": [
    "newdf.head(2)"
   ]
  },
  {
   "cell_type": "markdown",
   "id": "ed396579",
   "metadata": {},
   "source": [
    "# LOC Function"
   ]
  },
  {
   "cell_type": "code",
   "execution_count": 43,
   "id": "de6666d0",
   "metadata": {},
   "outputs": [],
   "source": [
    "newdf.columns = list(\"ABCDE\")"
   ]
  },
  {
   "cell_type": "code",
   "execution_count": 44,
   "id": "c1f79ac4",
   "metadata": {},
   "outputs": [],
   "source": [
    "newdf.loc[0,'A'] = 65445"
   ]
  },
  {
   "cell_type": "code",
   "execution_count": 45,
   "id": "b2a758e5",
   "metadata": {},
   "outputs": [
    {
     "data": {
      "text/html": [
       "<div>\n",
       "<style scoped>\n",
       "    .dataframe tbody tr th:only-of-type {\n",
       "        vertical-align: middle;\n",
       "    }\n",
       "\n",
       "    .dataframe tbody tr th {\n",
       "        vertical-align: top;\n",
       "    }\n",
       "\n",
       "    .dataframe thead th {\n",
       "        text-align: right;\n",
       "    }\n",
       "</style>\n",
       "<table border=\"1\" class=\"dataframe\">\n",
       "  <thead>\n",
       "    <tr style=\"text-align: right;\">\n",
       "      <th></th>\n",
       "      <th>A</th>\n",
       "      <th>B</th>\n",
       "      <th>C</th>\n",
       "      <th>D</th>\n",
       "      <th>E</th>\n",
       "    </tr>\n",
       "  </thead>\n",
       "  <tbody>\n",
       "    <tr>\n",
       "      <th>0</th>\n",
       "      <td>65445</td>\n",
       "      <td>0.748895</td>\n",
       "      <td>0.218383</td>\n",
       "      <td>0.933929</td>\n",
       "      <td>0.577327</td>\n",
       "    </tr>\n",
       "    <tr>\n",
       "      <th>1</th>\n",
       "      <td>0.450295</td>\n",
       "      <td>0.464547</td>\n",
       "      <td>0.651076</td>\n",
       "      <td>0.324801</td>\n",
       "      <td>0.733264</td>\n",
       "    </tr>\n",
       "    <tr>\n",
       "      <th>2</th>\n",
       "      <td>0.189632</td>\n",
       "      <td>0.335933</td>\n",
       "      <td>0.578361</td>\n",
       "      <td>0.742072</td>\n",
       "      <td>0.055315</td>\n",
       "    </tr>\n",
       "    <tr>\n",
       "      <th>3</th>\n",
       "      <td>0.285339</td>\n",
       "      <td>0.389210</td>\n",
       "      <td>0.232521</td>\n",
       "      <td>0.310403</td>\n",
       "      <td>0.966078</td>\n",
       "    </tr>\n",
       "    <tr>\n",
       "      <th>4</th>\n",
       "      <td>0.334091</td>\n",
       "      <td>0.047684</td>\n",
       "      <td>0.876100</td>\n",
       "      <td>0.083725</td>\n",
       "      <td>0.470397</td>\n",
       "    </tr>\n",
       "  </tbody>\n",
       "</table>\n",
       "</div>"
      ],
      "text/plain": [
       "          A         B         C         D         E\n",
       "0     65445  0.748895  0.218383  0.933929  0.577327\n",
       "1  0.450295  0.464547  0.651076  0.324801  0.733264\n",
       "2  0.189632  0.335933  0.578361  0.742072  0.055315\n",
       "3  0.285339  0.389210  0.232521  0.310403  0.966078\n",
       "4  0.334091  0.047684  0.876100  0.083725  0.470397"
      ]
     },
     "execution_count": 45,
     "metadata": {},
     "output_type": "execute_result"
    }
   ],
   "source": [
    "newdf.head()"
   ]
  },
  {
   "cell_type": "markdown",
   "id": "51d3b61d",
   "metadata": {},
   "source": [
    "***See it changed the first element of 0th row and A column***"
   ]
  },
  {
   "cell_type": "markdown",
   "id": "1bd56a8d",
   "metadata": {},
   "source": [
    "# To get the specific column and row:"
   ]
  },
  {
   "cell_type": "markdown",
   "id": "fff144f1",
   "metadata": {},
   "source": [
    "**Where we used to write [ 0 , 0 ]  we will make it like [ [ row , row ] , [ col , col ] ]**"
   ]
  },
  {
   "cell_type": "code",
   "execution_count": 46,
   "id": "8b3909b5",
   "metadata": {},
   "outputs": [
    {
     "data": {
      "text/html": [
       "<div>\n",
       "<style scoped>\n",
       "    .dataframe tbody tr th:only-of-type {\n",
       "        vertical-align: middle;\n",
       "    }\n",
       "\n",
       "    .dataframe tbody tr th {\n",
       "        vertical-align: top;\n",
       "    }\n",
       "\n",
       "    .dataframe thead th {\n",
       "        text-align: right;\n",
       "    }\n",
       "</style>\n",
       "<table border=\"1\" class=\"dataframe\">\n",
       "  <thead>\n",
       "    <tr style=\"text-align: right;\">\n",
       "      <th></th>\n",
       "      <th>C</th>\n",
       "      <th>D</th>\n",
       "    </tr>\n",
       "  </thead>\n",
       "  <tbody>\n",
       "    <tr>\n",
       "      <th>1</th>\n",
       "      <td>0.651076</td>\n",
       "      <td>0.324801</td>\n",
       "    </tr>\n",
       "    <tr>\n",
       "      <th>2</th>\n",
       "      <td>0.578361</td>\n",
       "      <td>0.742072</td>\n",
       "    </tr>\n",
       "  </tbody>\n",
       "</table>\n",
       "</div>"
      ],
      "text/plain": [
       "          C         D\n",
       "1  0.651076  0.324801\n",
       "2  0.578361  0.742072"
      ]
     },
     "execution_count": 46,
     "metadata": {},
     "output_type": "execute_result"
    }
   ],
   "source": [
    "newdf.loc[[1,2],['C','D']]"
   ]
  },
  {
   "cell_type": "markdown",
   "id": "94b9360b",
   "metadata": {},
   "source": [
    "# If we want all rows or all columns:"
   ]
  },
  {
   "cell_type": "markdown",
   "id": "24da69ee",
   "metadata": {},
   "source": [
    "**If we want all rows with C and D columns then we will replace [1,2] with :**"
   ]
  },
  {
   "cell_type": "code",
   "execution_count": 47,
   "id": "7517ab0c",
   "metadata": {},
   "outputs": [
    {
     "data": {
      "text/html": [
       "<div>\n",
       "<style scoped>\n",
       "    .dataframe tbody tr th:only-of-type {\n",
       "        vertical-align: middle;\n",
       "    }\n",
       "\n",
       "    .dataframe tbody tr th {\n",
       "        vertical-align: top;\n",
       "    }\n",
       "\n",
       "    .dataframe thead th {\n",
       "        text-align: right;\n",
       "    }\n",
       "</style>\n",
       "<table border=\"1\" class=\"dataframe\">\n",
       "  <thead>\n",
       "    <tr style=\"text-align: right;\">\n",
       "      <th></th>\n",
       "      <th>C</th>\n",
       "      <th>D</th>\n",
       "    </tr>\n",
       "  </thead>\n",
       "  <tbody>\n",
       "    <tr>\n",
       "      <th>0</th>\n",
       "      <td>0.218383</td>\n",
       "      <td>0.933929</td>\n",
       "    </tr>\n",
       "    <tr>\n",
       "      <th>1</th>\n",
       "      <td>0.651076</td>\n",
       "      <td>0.324801</td>\n",
       "    </tr>\n",
       "    <tr>\n",
       "      <th>2</th>\n",
       "      <td>0.578361</td>\n",
       "      <td>0.742072</td>\n",
       "    </tr>\n",
       "    <tr>\n",
       "      <th>3</th>\n",
       "      <td>0.232521</td>\n",
       "      <td>0.310403</td>\n",
       "    </tr>\n",
       "    <tr>\n",
       "      <th>4</th>\n",
       "      <td>0.876100</td>\n",
       "      <td>0.083725</td>\n",
       "    </tr>\n",
       "    <tr>\n",
       "      <th>...</th>\n",
       "      <td>...</td>\n",
       "      <td>...</td>\n",
       "    </tr>\n",
       "    <tr>\n",
       "      <th>329</th>\n",
       "      <td>0.130179</td>\n",
       "      <td>0.832103</td>\n",
       "    </tr>\n",
       "    <tr>\n",
       "      <th>330</th>\n",
       "      <td>0.503665</td>\n",
       "      <td>0.872864</td>\n",
       "    </tr>\n",
       "    <tr>\n",
       "      <th>331</th>\n",
       "      <td>0.458115</td>\n",
       "      <td>0.084138</td>\n",
       "    </tr>\n",
       "    <tr>\n",
       "      <th>332</th>\n",
       "      <td>0.739991</td>\n",
       "      <td>0.926915</td>\n",
       "    </tr>\n",
       "    <tr>\n",
       "      <th>333</th>\n",
       "      <td>0.231858</td>\n",
       "      <td>0.202792</td>\n",
       "    </tr>\n",
       "  </tbody>\n",
       "</table>\n",
       "<p>334 rows × 2 columns</p>\n",
       "</div>"
      ],
      "text/plain": [
       "            C         D\n",
       "0    0.218383  0.933929\n",
       "1    0.651076  0.324801\n",
       "2    0.578361  0.742072\n",
       "3    0.232521  0.310403\n",
       "4    0.876100  0.083725\n",
       "..        ...       ...\n",
       "329  0.130179  0.832103\n",
       "330  0.503665  0.872864\n",
       "331  0.458115  0.084138\n",
       "332  0.739991  0.926915\n",
       "333  0.231858  0.202792\n",
       "\n",
       "[334 rows x 2 columns]"
      ]
     },
     "execution_count": 47,
     "metadata": {},
     "output_type": "execute_result"
    }
   ],
   "source": [
    "newdf.loc[:,['C','D']]"
   ]
  },
  {
   "cell_type": "markdown",
   "id": "5a8e3813",
   "metadata": {},
   "source": [
    "**Same goes with columns...If we want all columns within given rows we will replace ['C','D'] with :**"
   ]
  },
  {
   "cell_type": "code",
   "execution_count": 48,
   "id": "e6e365d4",
   "metadata": {},
   "outputs": [
    {
     "data": {
      "text/html": [
       "<div>\n",
       "<style scoped>\n",
       "    .dataframe tbody tr th:only-of-type {\n",
       "        vertical-align: middle;\n",
       "    }\n",
       "\n",
       "    .dataframe tbody tr th {\n",
       "        vertical-align: top;\n",
       "    }\n",
       "\n",
       "    .dataframe thead th {\n",
       "        text-align: right;\n",
       "    }\n",
       "</style>\n",
       "<table border=\"1\" class=\"dataframe\">\n",
       "  <thead>\n",
       "    <tr style=\"text-align: right;\">\n",
       "      <th></th>\n",
       "      <th>A</th>\n",
       "      <th>B</th>\n",
       "      <th>C</th>\n",
       "      <th>D</th>\n",
       "      <th>E</th>\n",
       "    </tr>\n",
       "  </thead>\n",
       "  <tbody>\n",
       "    <tr>\n",
       "      <th>1</th>\n",
       "      <td>0.450295</td>\n",
       "      <td>0.464547</td>\n",
       "      <td>0.651076</td>\n",
       "      <td>0.324801</td>\n",
       "      <td>0.733264</td>\n",
       "    </tr>\n",
       "    <tr>\n",
       "      <th>2</th>\n",
       "      <td>0.189632</td>\n",
       "      <td>0.335933</td>\n",
       "      <td>0.578361</td>\n",
       "      <td>0.742072</td>\n",
       "      <td>0.055315</td>\n",
       "    </tr>\n",
       "  </tbody>\n",
       "</table>\n",
       "</div>"
      ],
      "text/plain": [
       "          A         B         C         D         E\n",
       "1  0.450295  0.464547  0.651076  0.324801  0.733264\n",
       "2  0.189632  0.335933  0.578361  0.742072  0.055315"
      ]
     },
     "execution_count": 48,
     "metadata": {},
     "output_type": "execute_result"
    }
   ],
   "source": [
    "newdf.loc[[1,2],:]"
   ]
  },
  {
   "cell_type": "markdown",
   "id": "53e8d3b7",
   "metadata": {},
   "source": [
    "**to include only the rows where the values in column 'A' are less than 0.3**"
   ]
  },
  {
   "cell_type": "code",
   "execution_count": 49,
   "id": "69364faf",
   "metadata": {},
   "outputs": [
    {
     "data": {
      "text/html": [
       "<div>\n",
       "<style scoped>\n",
       "    .dataframe tbody tr th:only-of-type {\n",
       "        vertical-align: middle;\n",
       "    }\n",
       "\n",
       "    .dataframe tbody tr th {\n",
       "        vertical-align: top;\n",
       "    }\n",
       "\n",
       "    .dataframe thead th {\n",
       "        text-align: right;\n",
       "    }\n",
       "</style>\n",
       "<table border=\"1\" class=\"dataframe\">\n",
       "  <thead>\n",
       "    <tr style=\"text-align: right;\">\n",
       "      <th></th>\n",
       "      <th>A</th>\n",
       "      <th>B</th>\n",
       "      <th>C</th>\n",
       "      <th>D</th>\n",
       "      <th>E</th>\n",
       "    </tr>\n",
       "  </thead>\n",
       "  <tbody>\n",
       "    <tr>\n",
       "      <th>1</th>\n",
       "      <td>0.450295</td>\n",
       "      <td>0.464547</td>\n",
       "      <td>0.651076</td>\n",
       "      <td>0.324801</td>\n",
       "      <td>0.733264</td>\n",
       "    </tr>\n",
       "    <tr>\n",
       "      <th>2</th>\n",
       "      <td>0.189632</td>\n",
       "      <td>0.335933</td>\n",
       "      <td>0.578361</td>\n",
       "      <td>0.742072</td>\n",
       "      <td>0.055315</td>\n",
       "    </tr>\n",
       "    <tr>\n",
       "      <th>3</th>\n",
       "      <td>0.285339</td>\n",
       "      <td>0.389210</td>\n",
       "      <td>0.232521</td>\n",
       "      <td>0.310403</td>\n",
       "      <td>0.966078</td>\n",
       "    </tr>\n",
       "    <tr>\n",
       "      <th>4</th>\n",
       "      <td>0.334091</td>\n",
       "      <td>0.047684</td>\n",
       "      <td>0.876100</td>\n",
       "      <td>0.083725</td>\n",
       "      <td>0.470397</td>\n",
       "    </tr>\n",
       "    <tr>\n",
       "      <th>7</th>\n",
       "      <td>0.203345</td>\n",
       "      <td>0.853331</td>\n",
       "      <td>0.262369</td>\n",
       "      <td>0.784523</td>\n",
       "      <td>0.163839</td>\n",
       "    </tr>\n",
       "    <tr>\n",
       "      <th>...</th>\n",
       "      <td>...</td>\n",
       "      <td>...</td>\n",
       "      <td>...</td>\n",
       "      <td>...</td>\n",
       "      <td>...</td>\n",
       "    </tr>\n",
       "    <tr>\n",
       "      <th>327</th>\n",
       "      <td>0.07393</td>\n",
       "      <td>0.485092</td>\n",
       "      <td>0.863503</td>\n",
       "      <td>0.211164</td>\n",
       "      <td>0.649483</td>\n",
       "    </tr>\n",
       "    <tr>\n",
       "      <th>330</th>\n",
       "      <td>0.036774</td>\n",
       "      <td>0.322895</td>\n",
       "      <td>0.503665</td>\n",
       "      <td>0.872864</td>\n",
       "      <td>0.806835</td>\n",
       "    </tr>\n",
       "    <tr>\n",
       "      <th>331</th>\n",
       "      <td>0.094525</td>\n",
       "      <td>0.390939</td>\n",
       "      <td>0.458115</td>\n",
       "      <td>0.084138</td>\n",
       "      <td>0.005681</td>\n",
       "    </tr>\n",
       "    <tr>\n",
       "      <th>332</th>\n",
       "      <td>0.083795</td>\n",
       "      <td>0.873162</td>\n",
       "      <td>0.739991</td>\n",
       "      <td>0.926915</td>\n",
       "      <td>0.892499</td>\n",
       "    </tr>\n",
       "    <tr>\n",
       "      <th>333</th>\n",
       "      <td>0.321362</td>\n",
       "      <td>0.719313</td>\n",
       "      <td>0.231858</td>\n",
       "      <td>0.202792</td>\n",
       "      <td>0.336732</td>\n",
       "    </tr>\n",
       "  </tbody>\n",
       "</table>\n",
       "<p>176 rows × 5 columns</p>\n",
       "</div>"
      ],
      "text/plain": [
       "            A         B         C         D         E\n",
       "1    0.450295  0.464547  0.651076  0.324801  0.733264\n",
       "2    0.189632  0.335933  0.578361  0.742072  0.055315\n",
       "3    0.285339  0.389210  0.232521  0.310403  0.966078\n",
       "4    0.334091  0.047684  0.876100  0.083725  0.470397\n",
       "7    0.203345  0.853331  0.262369  0.784523  0.163839\n",
       "..        ...       ...       ...       ...       ...\n",
       "327   0.07393  0.485092  0.863503  0.211164  0.649483\n",
       "330  0.036774  0.322895  0.503665  0.872864  0.806835\n",
       "331  0.094525  0.390939  0.458115  0.084138  0.005681\n",
       "332  0.083795  0.873162  0.739991  0.926915  0.892499\n",
       "333  0.321362  0.719313  0.231858  0.202792  0.336732\n",
       "\n",
       "[176 rows x 5 columns]"
      ]
     },
     "execution_count": 49,
     "metadata": {},
     "output_type": "execute_result"
    }
   ],
   "source": [
    "newdf.loc[(newdf['A']<0.5)]"
   ]
  },
  {
   "cell_type": "markdown",
   "id": "cd4d441c",
   "metadata": {},
   "source": [
    "**We can add more conditions to it...**"
   ]
  },
  {
   "cell_type": "code",
   "execution_count": 50,
   "id": "4111bfad",
   "metadata": {},
   "outputs": [
    {
     "data": {
      "text/html": [
       "<div>\n",
       "<style scoped>\n",
       "    .dataframe tbody tr th:only-of-type {\n",
       "        vertical-align: middle;\n",
       "    }\n",
       "\n",
       "    .dataframe tbody tr th {\n",
       "        vertical-align: top;\n",
       "    }\n",
       "\n",
       "    .dataframe thead th {\n",
       "        text-align: right;\n",
       "    }\n",
       "</style>\n",
       "<table border=\"1\" class=\"dataframe\">\n",
       "  <thead>\n",
       "    <tr style=\"text-align: right;\">\n",
       "      <th></th>\n",
       "      <th>A</th>\n",
       "      <th>B</th>\n",
       "      <th>C</th>\n",
       "      <th>D</th>\n",
       "      <th>E</th>\n",
       "    </tr>\n",
       "  </thead>\n",
       "  <tbody>\n",
       "    <tr>\n",
       "      <th>1</th>\n",
       "      <td>0.450295</td>\n",
       "      <td>0.464547</td>\n",
       "      <td>0.651076</td>\n",
       "      <td>0.324801</td>\n",
       "      <td>0.733264</td>\n",
       "    </tr>\n",
       "    <tr>\n",
       "      <th>2</th>\n",
       "      <td>0.189632</td>\n",
       "      <td>0.335933</td>\n",
       "      <td>0.578361</td>\n",
       "      <td>0.742072</td>\n",
       "      <td>0.055315</td>\n",
       "    </tr>\n",
       "    <tr>\n",
       "      <th>3</th>\n",
       "      <td>0.285339</td>\n",
       "      <td>0.389210</td>\n",
       "      <td>0.232521</td>\n",
       "      <td>0.310403</td>\n",
       "      <td>0.966078</td>\n",
       "    </tr>\n",
       "    <tr>\n",
       "      <th>4</th>\n",
       "      <td>0.334091</td>\n",
       "      <td>0.047684</td>\n",
       "      <td>0.876100</td>\n",
       "      <td>0.083725</td>\n",
       "      <td>0.470397</td>\n",
       "    </tr>\n",
       "    <tr>\n",
       "      <th>7</th>\n",
       "      <td>0.203345</td>\n",
       "      <td>0.853331</td>\n",
       "      <td>0.262369</td>\n",
       "      <td>0.784523</td>\n",
       "      <td>0.163839</td>\n",
       "    </tr>\n",
       "    <tr>\n",
       "      <th>...</th>\n",
       "      <td>...</td>\n",
       "      <td>...</td>\n",
       "      <td>...</td>\n",
       "      <td>...</td>\n",
       "      <td>...</td>\n",
       "    </tr>\n",
       "    <tr>\n",
       "      <th>327</th>\n",
       "      <td>0.07393</td>\n",
       "      <td>0.485092</td>\n",
       "      <td>0.863503</td>\n",
       "      <td>0.211164</td>\n",
       "      <td>0.649483</td>\n",
       "    </tr>\n",
       "    <tr>\n",
       "      <th>330</th>\n",
       "      <td>0.036774</td>\n",
       "      <td>0.322895</td>\n",
       "      <td>0.503665</td>\n",
       "      <td>0.872864</td>\n",
       "      <td>0.806835</td>\n",
       "    </tr>\n",
       "    <tr>\n",
       "      <th>331</th>\n",
       "      <td>0.094525</td>\n",
       "      <td>0.390939</td>\n",
       "      <td>0.458115</td>\n",
       "      <td>0.084138</td>\n",
       "      <td>0.005681</td>\n",
       "    </tr>\n",
       "    <tr>\n",
       "      <th>332</th>\n",
       "      <td>0.083795</td>\n",
       "      <td>0.873162</td>\n",
       "      <td>0.739991</td>\n",
       "      <td>0.926915</td>\n",
       "      <td>0.892499</td>\n",
       "    </tr>\n",
       "    <tr>\n",
       "      <th>333</th>\n",
       "      <td>0.321362</td>\n",
       "      <td>0.719313</td>\n",
       "      <td>0.231858</td>\n",
       "      <td>0.202792</td>\n",
       "      <td>0.336732</td>\n",
       "    </tr>\n",
       "  </tbody>\n",
       "</table>\n",
       "<p>176 rows × 5 columns</p>\n",
       "</div>"
      ],
      "text/plain": [
       "            A         B         C         D         E\n",
       "1    0.450295  0.464547  0.651076  0.324801  0.733264\n",
       "2    0.189632  0.335933  0.578361  0.742072  0.055315\n",
       "3    0.285339  0.389210  0.232521  0.310403  0.966078\n",
       "4    0.334091  0.047684  0.876100  0.083725  0.470397\n",
       "7    0.203345  0.853331  0.262369  0.784523  0.163839\n",
       "..        ...       ...       ...       ...       ...\n",
       "327   0.07393  0.485092  0.863503  0.211164  0.649483\n",
       "330  0.036774  0.322895  0.503665  0.872864  0.806835\n",
       "331  0.094525  0.390939  0.458115  0.084138  0.005681\n",
       "332  0.083795  0.873162  0.739991  0.926915  0.892499\n",
       "333  0.321362  0.719313  0.231858  0.202792  0.336732\n",
       "\n",
       "[176 rows x 5 columns]"
      ]
     },
     "execution_count": 50,
     "metadata": {},
     "output_type": "execute_result"
    }
   ],
   "source": [
    "newdf.loc[(newdf['A']<0.5) & newdf['C']>0.2]"
   ]
  },
  {
   "cell_type": "markdown",
   "id": "a142106e",
   "metadata": {},
   "source": [
    "# To get value from index:"
   ]
  },
  {
   "cell_type": "markdown",
   "id": "8dbc39d6",
   "metadata": {},
   "source": [
    "*Firstly let me show you the data:*"
   ]
  },
  {
   "cell_type": "code",
   "execution_count": 51,
   "id": "24d92488",
   "metadata": {},
   "outputs": [
    {
     "data": {
      "text/html": [
       "<div>\n",
       "<style scoped>\n",
       "    .dataframe tbody tr th:only-of-type {\n",
       "        vertical-align: middle;\n",
       "    }\n",
       "\n",
       "    .dataframe tbody tr th {\n",
       "        vertical-align: top;\n",
       "    }\n",
       "\n",
       "    .dataframe thead th {\n",
       "        text-align: right;\n",
       "    }\n",
       "</style>\n",
       "<table border=\"1\" class=\"dataframe\">\n",
       "  <thead>\n",
       "    <tr style=\"text-align: right;\">\n",
       "      <th></th>\n",
       "      <th>A</th>\n",
       "      <th>B</th>\n",
       "      <th>C</th>\n",
       "      <th>D</th>\n",
       "      <th>E</th>\n",
       "    </tr>\n",
       "  </thead>\n",
       "  <tbody>\n",
       "    <tr>\n",
       "      <th>0</th>\n",
       "      <td>65445</td>\n",
       "      <td>0.748895</td>\n",
       "      <td>0.218383</td>\n",
       "      <td>0.933929</td>\n",
       "      <td>0.577327</td>\n",
       "    </tr>\n",
       "    <tr>\n",
       "      <th>1</th>\n",
       "      <td>0.450295</td>\n",
       "      <td>0.464547</td>\n",
       "      <td>0.651076</td>\n",
       "      <td>0.324801</td>\n",
       "      <td>0.733264</td>\n",
       "    </tr>\n",
       "  </tbody>\n",
       "</table>\n",
       "</div>"
      ],
      "text/plain": [
       "          A         B         C         D         E\n",
       "0     65445  0.748895  0.218383  0.933929  0.577327\n",
       "1  0.450295  0.464547  0.651076  0.324801  0.733264"
      ]
     },
     "execution_count": 51,
     "metadata": {},
     "output_type": "execute_result"
    }
   ],
   "source": [
    "newdf.head(2)"
   ]
  },
  {
   "cell_type": "markdown",
   "id": "42e5c0bf",
   "metadata": {},
   "source": [
    "***Now to Implement the function:***"
   ]
  },
  {
   "cell_type": "code",
   "execution_count": 52,
   "id": "89fadb1e",
   "metadata": {},
   "outputs": [
    {
     "data": {
      "text/plain": [
       "0.5773273747841968"
      ]
     },
     "execution_count": 52,
     "metadata": {},
     "output_type": "execute_result"
    }
   ],
   "source": [
    "newdf.iloc[0,4]"
   ]
  },
  {
   "cell_type": "markdown",
   "id": "fa6f6239",
   "metadata": {},
   "source": [
    "***It started from 0th row and counted to 4 in columns and at E it got 0.4895..***"
   ]
  },
  {
   "cell_type": "markdown",
   "id": "744ce674",
   "metadata": {},
   "source": [
    "# So what is the Crux???"
   ]
  },
  {
   "cell_type": "markdown",
   "id": "4f25d500",
   "metadata": {},
   "source": [
    "# We learned that if we want to get any col/row from the name, we can use previous method(.loc[ ]), But if we want to get the value from it's index we can use iloc function"
   ]
  },
  {
   "cell_type": "markdown",
   "id": "4ca054be",
   "metadata": {},
   "source": [
    "*If we have indexes in rows like 0,1,2,3,4,5 and columns A,B,C,D,E    & we give loc[0,1], it will give error and we have to enter A,B or any other index inm order to get the value*"
   ]
  },
  {
   "cell_type": "markdown",
   "id": "e592bc0d",
   "metadata": {},
   "source": [
    "**But in the case of iloc if we give it like loc[0,1] it will give us 0th row and B column , because it sounts index to 1 , it doesn't care about column/row name**"
   ]
  },
  {
   "cell_type": "markdown",
   "id": "94badd57",
   "metadata": {},
   "source": [
    "# If we want to Delete a row"
   ]
  },
  {
   "cell_type": "markdown",
   "id": "d3df1050",
   "metadata": {},
   "source": [
    "   *We use dop() Function*"
   ]
  },
  {
   "cell_type": "code",
   "execution_count": 53,
   "id": "54b4ff1d",
   "metadata": {},
   "outputs": [
    {
     "data": {
      "text/html": [
       "<div>\n",
       "<style scoped>\n",
       "    .dataframe tbody tr th:only-of-type {\n",
       "        vertical-align: middle;\n",
       "    }\n",
       "\n",
       "    .dataframe tbody tr th {\n",
       "        vertical-align: top;\n",
       "    }\n",
       "\n",
       "    .dataframe thead th {\n",
       "        text-align: right;\n",
       "    }\n",
       "</style>\n",
       "<table border=\"1\" class=\"dataframe\">\n",
       "  <thead>\n",
       "    <tr style=\"text-align: right;\">\n",
       "      <th></th>\n",
       "      <th>A</th>\n",
       "      <th>B</th>\n",
       "      <th>C</th>\n",
       "      <th>D</th>\n",
       "      <th>E</th>\n",
       "    </tr>\n",
       "  </thead>\n",
       "  <tbody>\n",
       "    <tr>\n",
       "      <th>0</th>\n",
       "      <td>65445</td>\n",
       "      <td>0.748895</td>\n",
       "      <td>0.218383</td>\n",
       "      <td>0.933929</td>\n",
       "      <td>0.577327</td>\n",
       "    </tr>\n",
       "    <tr>\n",
       "      <th>1</th>\n",
       "      <td>0.450295</td>\n",
       "      <td>0.464547</td>\n",
       "      <td>0.651076</td>\n",
       "      <td>0.324801</td>\n",
       "      <td>0.733264</td>\n",
       "    </tr>\n",
       "    <tr>\n",
       "      <th>3</th>\n",
       "      <td>0.285339</td>\n",
       "      <td>0.389210</td>\n",
       "      <td>0.232521</td>\n",
       "      <td>0.310403</td>\n",
       "      <td>0.966078</td>\n",
       "    </tr>\n",
       "    <tr>\n",
       "      <th>4</th>\n",
       "      <td>0.334091</td>\n",
       "      <td>0.047684</td>\n",
       "      <td>0.876100</td>\n",
       "      <td>0.083725</td>\n",
       "      <td>0.470397</td>\n",
       "    </tr>\n",
       "    <tr>\n",
       "      <th>5</th>\n",
       "      <td>0.944163</td>\n",
       "      <td>0.110801</td>\n",
       "      <td>0.220325</td>\n",
       "      <td>0.438155</td>\n",
       "      <td>0.337468</td>\n",
       "    </tr>\n",
       "    <tr>\n",
       "      <th>...</th>\n",
       "      <td>...</td>\n",
       "      <td>...</td>\n",
       "      <td>...</td>\n",
       "      <td>...</td>\n",
       "      <td>...</td>\n",
       "    </tr>\n",
       "    <tr>\n",
       "      <th>329</th>\n",
       "      <td>0.513628</td>\n",
       "      <td>0.532974</td>\n",
       "      <td>0.130179</td>\n",
       "      <td>0.832103</td>\n",
       "      <td>0.630622</td>\n",
       "    </tr>\n",
       "    <tr>\n",
       "      <th>330</th>\n",
       "      <td>0.036774</td>\n",
       "      <td>0.322895</td>\n",
       "      <td>0.503665</td>\n",
       "      <td>0.872864</td>\n",
       "      <td>0.806835</td>\n",
       "    </tr>\n",
       "    <tr>\n",
       "      <th>331</th>\n",
       "      <td>0.094525</td>\n",
       "      <td>0.390939</td>\n",
       "      <td>0.458115</td>\n",
       "      <td>0.084138</td>\n",
       "      <td>0.005681</td>\n",
       "    </tr>\n",
       "    <tr>\n",
       "      <th>332</th>\n",
       "      <td>0.083795</td>\n",
       "      <td>0.873162</td>\n",
       "      <td>0.739991</td>\n",
       "      <td>0.926915</td>\n",
       "      <td>0.892499</td>\n",
       "    </tr>\n",
       "    <tr>\n",
       "      <th>333</th>\n",
       "      <td>0.321362</td>\n",
       "      <td>0.719313</td>\n",
       "      <td>0.231858</td>\n",
       "      <td>0.202792</td>\n",
       "      <td>0.336732</td>\n",
       "    </tr>\n",
       "  </tbody>\n",
       "</table>\n",
       "<p>333 rows × 5 columns</p>\n",
       "</div>"
      ],
      "text/plain": [
       "            A         B         C         D         E\n",
       "0       65445  0.748895  0.218383  0.933929  0.577327\n",
       "1    0.450295  0.464547  0.651076  0.324801  0.733264\n",
       "3    0.285339  0.389210  0.232521  0.310403  0.966078\n",
       "4    0.334091  0.047684  0.876100  0.083725  0.470397\n",
       "5    0.944163  0.110801  0.220325  0.438155  0.337468\n",
       "..        ...       ...       ...       ...       ...\n",
       "329  0.513628  0.532974  0.130179  0.832103  0.630622\n",
       "330  0.036774  0.322895  0.503665  0.872864  0.806835\n",
       "331  0.094525  0.390939  0.458115  0.084138  0.005681\n",
       "332  0.083795  0.873162  0.739991  0.926915  0.892499\n",
       "333  0.321362  0.719313  0.231858  0.202792  0.336732\n",
       "\n",
       "[333 rows x 5 columns]"
      ]
     },
     "execution_count": 53,
     "metadata": {},
     "output_type": "execute_result"
    }
   ],
   "source": [
    "newdf.drop(2)"
   ]
  },
  {
   "cell_type": "markdown",
   "id": "8dd4299f",
   "metadata": {},
   "source": [
    "***It deleted the 2nd row***"
   ]
  },
  {
   "cell_type": "markdown",
   "id": "ac3c38cc",
   "metadata": {},
   "source": [
    "# To delete the column:"
   ]
  },
  {
   "cell_type": "code",
   "execution_count": 54,
   "id": "a1915cbd",
   "metadata": {},
   "outputs": [
    {
     "data": {
      "text/html": [
       "<div>\n",
       "<style scoped>\n",
       "    .dataframe tbody tr th:only-of-type {\n",
       "        vertical-align: middle;\n",
       "    }\n",
       "\n",
       "    .dataframe tbody tr th {\n",
       "        vertical-align: top;\n",
       "    }\n",
       "\n",
       "    .dataframe thead th {\n",
       "        text-align: right;\n",
       "    }\n",
       "</style>\n",
       "<table border=\"1\" class=\"dataframe\">\n",
       "  <thead>\n",
       "    <tr style=\"text-align: right;\">\n",
       "      <th></th>\n",
       "      <th>B</th>\n",
       "      <th>C</th>\n",
       "      <th>D</th>\n",
       "      <th>E</th>\n",
       "    </tr>\n",
       "  </thead>\n",
       "  <tbody>\n",
       "    <tr>\n",
       "      <th>0</th>\n",
       "      <td>0.748895</td>\n",
       "      <td>0.218383</td>\n",
       "      <td>0.933929</td>\n",
       "      <td>0.577327</td>\n",
       "    </tr>\n",
       "    <tr>\n",
       "      <th>1</th>\n",
       "      <td>0.464547</td>\n",
       "      <td>0.651076</td>\n",
       "      <td>0.324801</td>\n",
       "      <td>0.733264</td>\n",
       "    </tr>\n",
       "    <tr>\n",
       "      <th>2</th>\n",
       "      <td>0.335933</td>\n",
       "      <td>0.578361</td>\n",
       "      <td>0.742072</td>\n",
       "      <td>0.055315</td>\n",
       "    </tr>\n",
       "    <tr>\n",
       "      <th>3</th>\n",
       "      <td>0.389210</td>\n",
       "      <td>0.232521</td>\n",
       "      <td>0.310403</td>\n",
       "      <td>0.966078</td>\n",
       "    </tr>\n",
       "    <tr>\n",
       "      <th>4</th>\n",
       "      <td>0.047684</td>\n",
       "      <td>0.876100</td>\n",
       "      <td>0.083725</td>\n",
       "      <td>0.470397</td>\n",
       "    </tr>\n",
       "    <tr>\n",
       "      <th>...</th>\n",
       "      <td>...</td>\n",
       "      <td>...</td>\n",
       "      <td>...</td>\n",
       "      <td>...</td>\n",
       "    </tr>\n",
       "    <tr>\n",
       "      <th>329</th>\n",
       "      <td>0.532974</td>\n",
       "      <td>0.130179</td>\n",
       "      <td>0.832103</td>\n",
       "      <td>0.630622</td>\n",
       "    </tr>\n",
       "    <tr>\n",
       "      <th>330</th>\n",
       "      <td>0.322895</td>\n",
       "      <td>0.503665</td>\n",
       "      <td>0.872864</td>\n",
       "      <td>0.806835</td>\n",
       "    </tr>\n",
       "    <tr>\n",
       "      <th>331</th>\n",
       "      <td>0.390939</td>\n",
       "      <td>0.458115</td>\n",
       "      <td>0.084138</td>\n",
       "      <td>0.005681</td>\n",
       "    </tr>\n",
       "    <tr>\n",
       "      <th>332</th>\n",
       "      <td>0.873162</td>\n",
       "      <td>0.739991</td>\n",
       "      <td>0.926915</td>\n",
       "      <td>0.892499</td>\n",
       "    </tr>\n",
       "    <tr>\n",
       "      <th>333</th>\n",
       "      <td>0.719313</td>\n",
       "      <td>0.231858</td>\n",
       "      <td>0.202792</td>\n",
       "      <td>0.336732</td>\n",
       "    </tr>\n",
       "  </tbody>\n",
       "</table>\n",
       "<p>334 rows × 4 columns</p>\n",
       "</div>"
      ],
      "text/plain": [
       "            B         C         D         E\n",
       "0    0.748895  0.218383  0.933929  0.577327\n",
       "1    0.464547  0.651076  0.324801  0.733264\n",
       "2    0.335933  0.578361  0.742072  0.055315\n",
       "3    0.389210  0.232521  0.310403  0.966078\n",
       "4    0.047684  0.876100  0.083725  0.470397\n",
       "..        ...       ...       ...       ...\n",
       "329  0.532974  0.130179  0.832103  0.630622\n",
       "330  0.322895  0.503665  0.872864  0.806835\n",
       "331  0.390939  0.458115  0.084138  0.005681\n",
       "332  0.873162  0.739991  0.926915  0.892499\n",
       "333  0.719313  0.231858  0.202792  0.336732\n",
       "\n",
       "[334 rows x 4 columns]"
      ]
     },
     "execution_count": 54,
     "metadata": {},
     "output_type": "execute_result"
    }
   ],
   "source": [
    "newdf.drop('A',axis=1)"
   ]
  },
  {
   "cell_type": "markdown",
   "id": "6ed99ab9",
   "metadata": {},
   "source": [
    "***It deleted the 1st column***"
   ]
  },
  {
   "cell_type": "markdown",
   "id": "d617e5e3",
   "metadata": {},
   "source": [
    "# If we want to change it for real ... there are two methods ...\n"
   ]
  },
  {
   "cell_type": "markdown",
   "id": "6e095865",
   "metadata": {},
   "source": [
    "**No 1 is we do this : newdf = newdf .drop ( 'A' , axis = 1)**"
   ]
  },
  {
   "cell_type": "markdown",
   "id": "ddcb50e8",
   "metadata": {},
   "source": [
    "**No 2 is:**"
   ]
  },
  {
   "cell_type": "code",
   "execution_count": 55,
   "id": "1d899c18",
   "metadata": {},
   "outputs": [],
   "source": [
    "newdf.drop('A',axis=1,inplace=True)"
   ]
  },
  {
   "cell_type": "code",
   "execution_count": 56,
   "id": "eb7a199c",
   "metadata": {},
   "outputs": [
    {
     "data": {
      "text/html": [
       "<div>\n",
       "<style scoped>\n",
       "    .dataframe tbody tr th:only-of-type {\n",
       "        vertical-align: middle;\n",
       "    }\n",
       "\n",
       "    .dataframe tbody tr th {\n",
       "        vertical-align: top;\n",
       "    }\n",
       "\n",
       "    .dataframe thead th {\n",
       "        text-align: right;\n",
       "    }\n",
       "</style>\n",
       "<table border=\"1\" class=\"dataframe\">\n",
       "  <thead>\n",
       "    <tr style=\"text-align: right;\">\n",
       "      <th></th>\n",
       "      <th>B</th>\n",
       "      <th>C</th>\n",
       "      <th>D</th>\n",
       "      <th>E</th>\n",
       "    </tr>\n",
       "  </thead>\n",
       "  <tbody>\n",
       "    <tr>\n",
       "      <th>0</th>\n",
       "      <td>0.748895</td>\n",
       "      <td>0.218383</td>\n",
       "      <td>0.933929</td>\n",
       "      <td>0.577327</td>\n",
       "    </tr>\n",
       "    <tr>\n",
       "      <th>1</th>\n",
       "      <td>0.464547</td>\n",
       "      <td>0.651076</td>\n",
       "      <td>0.324801</td>\n",
       "      <td>0.733264</td>\n",
       "    </tr>\n",
       "    <tr>\n",
       "      <th>2</th>\n",
       "      <td>0.335933</td>\n",
       "      <td>0.578361</td>\n",
       "      <td>0.742072</td>\n",
       "      <td>0.055315</td>\n",
       "    </tr>\n",
       "    <tr>\n",
       "      <th>3</th>\n",
       "      <td>0.389210</td>\n",
       "      <td>0.232521</td>\n",
       "      <td>0.310403</td>\n",
       "      <td>0.966078</td>\n",
       "    </tr>\n",
       "    <tr>\n",
       "      <th>4</th>\n",
       "      <td>0.047684</td>\n",
       "      <td>0.876100</td>\n",
       "      <td>0.083725</td>\n",
       "      <td>0.470397</td>\n",
       "    </tr>\n",
       "    <tr>\n",
       "      <th>...</th>\n",
       "      <td>...</td>\n",
       "      <td>...</td>\n",
       "      <td>...</td>\n",
       "      <td>...</td>\n",
       "    </tr>\n",
       "    <tr>\n",
       "      <th>329</th>\n",
       "      <td>0.532974</td>\n",
       "      <td>0.130179</td>\n",
       "      <td>0.832103</td>\n",
       "      <td>0.630622</td>\n",
       "    </tr>\n",
       "    <tr>\n",
       "      <th>330</th>\n",
       "      <td>0.322895</td>\n",
       "      <td>0.503665</td>\n",
       "      <td>0.872864</td>\n",
       "      <td>0.806835</td>\n",
       "    </tr>\n",
       "    <tr>\n",
       "      <th>331</th>\n",
       "      <td>0.390939</td>\n",
       "      <td>0.458115</td>\n",
       "      <td>0.084138</td>\n",
       "      <td>0.005681</td>\n",
       "    </tr>\n",
       "    <tr>\n",
       "      <th>332</th>\n",
       "      <td>0.873162</td>\n",
       "      <td>0.739991</td>\n",
       "      <td>0.926915</td>\n",
       "      <td>0.892499</td>\n",
       "    </tr>\n",
       "    <tr>\n",
       "      <th>333</th>\n",
       "      <td>0.719313</td>\n",
       "      <td>0.231858</td>\n",
       "      <td>0.202792</td>\n",
       "      <td>0.336732</td>\n",
       "    </tr>\n",
       "  </tbody>\n",
       "</table>\n",
       "<p>334 rows × 4 columns</p>\n",
       "</div>"
      ],
      "text/plain": [
       "            B         C         D         E\n",
       "0    0.748895  0.218383  0.933929  0.577327\n",
       "1    0.464547  0.651076  0.324801  0.733264\n",
       "2    0.335933  0.578361  0.742072  0.055315\n",
       "3    0.389210  0.232521  0.310403  0.966078\n",
       "4    0.047684  0.876100  0.083725  0.470397\n",
       "..        ...       ...       ...       ...\n",
       "329  0.532974  0.130179  0.832103  0.630622\n",
       "330  0.322895  0.503665  0.872864  0.806835\n",
       "331  0.390939  0.458115  0.084138  0.005681\n",
       "332  0.873162  0.739991  0.926915  0.892499\n",
       "333  0.719313  0.231858  0.202792  0.336732\n",
       "\n",
       "[334 rows x 4 columns]"
      ]
     },
     "execution_count": 56,
     "metadata": {},
     "output_type": "execute_result"
    }
   ],
   "source": [
    "newdf"
   ]
  },
  {
   "cell_type": "markdown",
   "id": "e8178daf",
   "metadata": {},
   "source": [
    "**see it changed the original one**"
   ]
  },
  {
   "cell_type": "markdown",
   "id": "475a414c",
   "metadata": {},
   "source": [
    "# what to do if we changed the index and want to reset it:"
   ]
  },
  {
   "cell_type": "code",
   "execution_count": 57,
   "id": "9568b83d",
   "metadata": {},
   "outputs": [
    {
     "data": {
      "text/html": [
       "<div>\n",
       "<style scoped>\n",
       "    .dataframe tbody tr th:only-of-type {\n",
       "        vertical-align: middle;\n",
       "    }\n",
       "\n",
       "    .dataframe tbody tr th {\n",
       "        vertical-align: top;\n",
       "    }\n",
       "\n",
       "    .dataframe thead th {\n",
       "        text-align: right;\n",
       "    }\n",
       "</style>\n",
       "<table border=\"1\" class=\"dataframe\">\n",
       "  <thead>\n",
       "    <tr style=\"text-align: right;\">\n",
       "      <th></th>\n",
       "      <th>index</th>\n",
       "      <th>B</th>\n",
       "      <th>C</th>\n",
       "      <th>D</th>\n",
       "      <th>E</th>\n",
       "    </tr>\n",
       "  </thead>\n",
       "  <tbody>\n",
       "    <tr>\n",
       "      <th>0</th>\n",
       "      <td>0</td>\n",
       "      <td>0.748895</td>\n",
       "      <td>0.218383</td>\n",
       "      <td>0.933929</td>\n",
       "      <td>0.577327</td>\n",
       "    </tr>\n",
       "    <tr>\n",
       "      <th>1</th>\n",
       "      <td>1</td>\n",
       "      <td>0.464547</td>\n",
       "      <td>0.651076</td>\n",
       "      <td>0.324801</td>\n",
       "      <td>0.733264</td>\n",
       "    </tr>\n",
       "    <tr>\n",
       "      <th>2</th>\n",
       "      <td>2</td>\n",
       "      <td>0.335933</td>\n",
       "      <td>0.578361</td>\n",
       "      <td>0.742072</td>\n",
       "      <td>0.055315</td>\n",
       "    </tr>\n",
       "    <tr>\n",
       "      <th>3</th>\n",
       "      <td>3</td>\n",
       "      <td>0.389210</td>\n",
       "      <td>0.232521</td>\n",
       "      <td>0.310403</td>\n",
       "      <td>0.966078</td>\n",
       "    </tr>\n",
       "    <tr>\n",
       "      <th>4</th>\n",
       "      <td>4</td>\n",
       "      <td>0.047684</td>\n",
       "      <td>0.876100</td>\n",
       "      <td>0.083725</td>\n",
       "      <td>0.470397</td>\n",
       "    </tr>\n",
       "    <tr>\n",
       "      <th>...</th>\n",
       "      <td>...</td>\n",
       "      <td>...</td>\n",
       "      <td>...</td>\n",
       "      <td>...</td>\n",
       "      <td>...</td>\n",
       "    </tr>\n",
       "    <tr>\n",
       "      <th>329</th>\n",
       "      <td>329</td>\n",
       "      <td>0.532974</td>\n",
       "      <td>0.130179</td>\n",
       "      <td>0.832103</td>\n",
       "      <td>0.630622</td>\n",
       "    </tr>\n",
       "    <tr>\n",
       "      <th>330</th>\n",
       "      <td>330</td>\n",
       "      <td>0.322895</td>\n",
       "      <td>0.503665</td>\n",
       "      <td>0.872864</td>\n",
       "      <td>0.806835</td>\n",
       "    </tr>\n",
       "    <tr>\n",
       "      <th>331</th>\n",
       "      <td>331</td>\n",
       "      <td>0.390939</td>\n",
       "      <td>0.458115</td>\n",
       "      <td>0.084138</td>\n",
       "      <td>0.005681</td>\n",
       "    </tr>\n",
       "    <tr>\n",
       "      <th>332</th>\n",
       "      <td>332</td>\n",
       "      <td>0.873162</td>\n",
       "      <td>0.739991</td>\n",
       "      <td>0.926915</td>\n",
       "      <td>0.892499</td>\n",
       "    </tr>\n",
       "    <tr>\n",
       "      <th>333</th>\n",
       "      <td>333</td>\n",
       "      <td>0.719313</td>\n",
       "      <td>0.231858</td>\n",
       "      <td>0.202792</td>\n",
       "      <td>0.336732</td>\n",
       "    </tr>\n",
       "  </tbody>\n",
       "</table>\n",
       "<p>334 rows × 5 columns</p>\n",
       "</div>"
      ],
      "text/plain": [
       "     index         B         C         D         E\n",
       "0        0  0.748895  0.218383  0.933929  0.577327\n",
       "1        1  0.464547  0.651076  0.324801  0.733264\n",
       "2        2  0.335933  0.578361  0.742072  0.055315\n",
       "3        3  0.389210  0.232521  0.310403  0.966078\n",
       "4        4  0.047684  0.876100  0.083725  0.470397\n",
       "..     ...       ...       ...       ...       ...\n",
       "329    329  0.532974  0.130179  0.832103  0.630622\n",
       "330    330  0.322895  0.503665  0.872864  0.806835\n",
       "331    331  0.390939  0.458115  0.084138  0.005681\n",
       "332    332  0.873162  0.739991  0.926915  0.892499\n",
       "333    333  0.719313  0.231858  0.202792  0.336732\n",
       "\n",
       "[334 rows x 5 columns]"
      ]
     },
     "execution_count": 57,
     "metadata": {},
     "output_type": "execute_result"
    }
   ],
   "source": [
    "newdf.reset_index()"
   ]
  },
  {
   "cell_type": "markdown",
   "id": "9b244a86",
   "metadata": {},
   "source": [
    "*It reset to index but it added an column named index*"
   ]
  },
  {
   "cell_type": "markdown",
   "id": "2fa53bb8",
   "metadata": {},
   "source": [
    "*How to fix it:*"
   ]
  },
  {
   "cell_type": "code",
   "execution_count": 58,
   "id": "0e8f1b9b",
   "metadata": {},
   "outputs": [],
   "source": [
    "newdf.reset_index(drop=True , inplace=True)"
   ]
  },
  {
   "cell_type": "markdown",
   "id": "44828cda",
   "metadata": {},
   "source": [
    "*I used *inplace = True* here to make changes in original ... Let's check df now:*"
   ]
  },
  {
   "cell_type": "code",
   "execution_count": 59,
   "id": "81e80edc",
   "metadata": {},
   "outputs": [
    {
     "data": {
      "text/html": [
       "<div>\n",
       "<style scoped>\n",
       "    .dataframe tbody tr th:only-of-type {\n",
       "        vertical-align: middle;\n",
       "    }\n",
       "\n",
       "    .dataframe tbody tr th {\n",
       "        vertical-align: top;\n",
       "    }\n",
       "\n",
       "    .dataframe thead th {\n",
       "        text-align: right;\n",
       "    }\n",
       "</style>\n",
       "<table border=\"1\" class=\"dataframe\">\n",
       "  <thead>\n",
       "    <tr style=\"text-align: right;\">\n",
       "      <th></th>\n",
       "      <th>B</th>\n",
       "      <th>C</th>\n",
       "      <th>D</th>\n",
       "      <th>E</th>\n",
       "    </tr>\n",
       "  </thead>\n",
       "  <tbody>\n",
       "    <tr>\n",
       "      <th>0</th>\n",
       "      <td>0.748895</td>\n",
       "      <td>0.218383</td>\n",
       "      <td>0.933929</td>\n",
       "      <td>0.577327</td>\n",
       "    </tr>\n",
       "    <tr>\n",
       "      <th>1</th>\n",
       "      <td>0.464547</td>\n",
       "      <td>0.651076</td>\n",
       "      <td>0.324801</td>\n",
       "      <td>0.733264</td>\n",
       "    </tr>\n",
       "    <tr>\n",
       "      <th>2</th>\n",
       "      <td>0.335933</td>\n",
       "      <td>0.578361</td>\n",
       "      <td>0.742072</td>\n",
       "      <td>0.055315</td>\n",
       "    </tr>\n",
       "  </tbody>\n",
       "</table>\n",
       "</div>"
      ],
      "text/plain": [
       "          B         C         D         E\n",
       "0  0.748895  0.218383  0.933929  0.577327\n",
       "1  0.464547  0.651076  0.324801  0.733264\n",
       "2  0.335933  0.578361  0.742072  0.055315"
      ]
     },
     "execution_count": 59,
     "metadata": {},
     "output_type": "execute_result"
    }
   ],
   "source": [
    "newdf.head(3)"
   ]
  },
  {
   "cell_type": "markdown",
   "id": "c39f1660",
   "metadata": {},
   "source": [
    "***See it deleted The index named column***"
   ]
  },
  {
   "cell_type": "markdown",
   "id": "11920146",
   "metadata": {},
   "source": [
    "# To get that where is NULL value in df:"
   ]
  },
  {
   "cell_type": "markdown",
   "id": "f89574fc",
   "metadata": {},
   "source": [
    "***We give it a column and use .isnull function to get nulls***"
   ]
  },
  {
   "cell_type": "markdown",
   "id": "7b033b4b",
   "metadata": {},
   "source": [
    "*Firstly we make the column B all NULL By:* "
   ]
  },
  {
   "cell_type": "code",
   "execution_count": 60,
   "id": "bb6e36a0",
   "metadata": {},
   "outputs": [],
   "source": [
    "newdf.loc[:,'B'] = None"
   ]
  },
  {
   "cell_type": "code",
   "execution_count": 61,
   "id": "3d6cdaa4",
   "metadata": {},
   "outputs": [
    {
     "data": {
      "text/plain": [
       "0      True\n",
       "1      True\n",
       "2      True\n",
       "3      True\n",
       "4      True\n",
       "       ... \n",
       "329    True\n",
       "330    True\n",
       "331    True\n",
       "332    True\n",
       "333    True\n",
       "Name: B, Length: 334, dtype: bool"
      ]
     },
     "execution_count": 61,
     "metadata": {},
     "output_type": "execute_result"
    }
   ],
   "source": [
    "newdf['B'].isnull()"
   ]
  },
  {
   "cell_type": "code",
   "execution_count": 62,
   "id": "9ac0dce4",
   "metadata": {},
   "outputs": [
    {
     "data": {
      "text/plain": [
       "0      False\n",
       "1      False\n",
       "2      False\n",
       "3      False\n",
       "4      False\n",
       "       ...  \n",
       "329    False\n",
       "330    False\n",
       "331    False\n",
       "332    False\n",
       "333    False\n",
       "Name: C, Length: 334, dtype: bool"
      ]
     },
     "execution_count": 62,
     "metadata": {},
     "output_type": "execute_result"
    }
   ],
   "source": [
    "newdf['C'].isnull()"
   ]
  },
  {
   "cell_type": "markdown",
   "id": "2ac63e20",
   "metadata": {},
   "source": [
    "*See in Column B where all values are NULL, it returns True and viceversa*"
   ]
  },
  {
   "cell_type": "markdown",
   "id": "cda95ba0",
   "metadata": {},
   "source": [
    "# To delete rows that contain NULL"
   ]
  },
  {
   "cell_type": "markdown",
   "id": "f08e72ed",
   "metadata": {},
   "source": [
    "*Let's take an example of dataframe:*"
   ]
  },
  {
   "cell_type": "code",
   "execution_count": 85,
   "id": "16773e19",
   "metadata": {},
   "outputs": [],
   "source": [
    "df = pd.DataFrame({\"name\": ['Alfred', 'Batman', 'Catwoman'],\n",
    "                   \"toy\": [np.nan, 'Batmobile', 'Bullwhip'],\n",
    "                   \"born\": [pd.NaT, pd.Timestamp(\"1940-04-25\"),\n",
    "                            pd.NaT]})"
   ]
  },
  {
   "cell_type": "code",
   "execution_count": 86,
   "id": "7fe0b7be",
   "metadata": {},
   "outputs": [
    {
     "data": {
      "text/html": [
       "<div>\n",
       "<style scoped>\n",
       "    .dataframe tbody tr th:only-of-type {\n",
       "        vertical-align: middle;\n",
       "    }\n",
       "\n",
       "    .dataframe tbody tr th {\n",
       "        vertical-align: top;\n",
       "    }\n",
       "\n",
       "    .dataframe thead th {\n",
       "        text-align: right;\n",
       "    }\n",
       "</style>\n",
       "<table border=\"1\" class=\"dataframe\">\n",
       "  <thead>\n",
       "    <tr style=\"text-align: right;\">\n",
       "      <th></th>\n",
       "      <th>name</th>\n",
       "      <th>toy</th>\n",
       "      <th>born</th>\n",
       "    </tr>\n",
       "  </thead>\n",
       "  <tbody>\n",
       "    <tr>\n",
       "      <th>0</th>\n",
       "      <td>Alfred</td>\n",
       "      <td>NaN</td>\n",
       "      <td>NaT</td>\n",
       "    </tr>\n",
       "    <tr>\n",
       "      <th>1</th>\n",
       "      <td>Batman</td>\n",
       "      <td>Batmobile</td>\n",
       "      <td>1940-04-25</td>\n",
       "    </tr>\n",
       "    <tr>\n",
       "      <th>2</th>\n",
       "      <td>Catwoman</td>\n",
       "      <td>Bullwhip</td>\n",
       "      <td>NaT</td>\n",
       "    </tr>\n",
       "  </tbody>\n",
       "</table>\n",
       "</div>"
      ],
      "text/plain": [
       "       name        toy       born\n",
       "0    Alfred        NaN        NaT\n",
       "1    Batman  Batmobile 1940-04-25\n",
       "2  Catwoman   Bullwhip        NaT"
      ]
     },
     "execution_count": 86,
     "metadata": {},
     "output_type": "execute_result"
    }
   ],
   "source": [
    "df"
   ]
  },
  {
   "cell_type": "code",
   "execution_count": 87,
   "id": "4495cff1",
   "metadata": {},
   "outputs": [
    {
     "data": {
      "text/html": [
       "<div>\n",
       "<style scoped>\n",
       "    .dataframe tbody tr th:only-of-type {\n",
       "        vertical-align: middle;\n",
       "    }\n",
       "\n",
       "    .dataframe tbody tr th {\n",
       "        vertical-align: top;\n",
       "    }\n",
       "\n",
       "    .dataframe thead th {\n",
       "        text-align: right;\n",
       "    }\n",
       "</style>\n",
       "<table border=\"1\" class=\"dataframe\">\n",
       "  <thead>\n",
       "    <tr style=\"text-align: right;\">\n",
       "      <th></th>\n",
       "      <th>name</th>\n",
       "      <th>toy</th>\n",
       "      <th>born</th>\n",
       "    </tr>\n",
       "  </thead>\n",
       "  <tbody>\n",
       "    <tr>\n",
       "      <th>1</th>\n",
       "      <td>Batman</td>\n",
       "      <td>Batmobile</td>\n",
       "      <td>1940-04-25</td>\n",
       "    </tr>\n",
       "  </tbody>\n",
       "</table>\n",
       "</div>"
      ],
      "text/plain": [
       "     name        toy       born\n",
       "1  Batman  Batmobile 1940-04-25"
      ]
     },
     "execution_count": 87,
     "metadata": {},
     "output_type": "execute_result"
    }
   ],
   "source": [
    "df.dropna()"
   ]
  },
  {
   "cell_type": "markdown",
   "id": "1ab9f5f9",
   "metadata": {},
   "source": [
    "***It deleted all rows that had Na values***"
   ]
  },
  {
   "cell_type": "code",
   "execution_count": 88,
   "id": "8ed1e9f6",
   "metadata": {},
   "outputs": [],
   "source": [
    "df = pd.DataFrame({\"name\": ['Alfred', 'Batman', 'Catwoman'],\n",
    "                   \"toy\": [np.nan, 'Batmobile', 'Bullwhip'],\n",
    "                   \"born\": [pd.NaT, pd.Timestamp(\"1940-04-25\"),\n",
    "                            pd.NaT],\n",
    "                   \"height\":[np.nan, np.nan,np.nan]})\n"
   ]
  },
  {
   "cell_type": "code",
   "execution_count": 92,
   "id": "8adfdcd6",
   "metadata": {},
   "outputs": [
    {
     "data": {
      "text/html": [
       "<div>\n",
       "<style scoped>\n",
       "    .dataframe tbody tr th:only-of-type {\n",
       "        vertical-align: middle;\n",
       "    }\n",
       "\n",
       "    .dataframe tbody tr th {\n",
       "        vertical-align: top;\n",
       "    }\n",
       "\n",
       "    .dataframe thead th {\n",
       "        text-align: right;\n",
       "    }\n",
       "</style>\n",
       "<table border=\"1\" class=\"dataframe\">\n",
       "  <thead>\n",
       "    <tr style=\"text-align: right;\">\n",
       "      <th></th>\n",
       "      <th>name</th>\n",
       "      <th>toy</th>\n",
       "      <th>born</th>\n",
       "      <th>height</th>\n",
       "    </tr>\n",
       "  </thead>\n",
       "  <tbody>\n",
       "    <tr>\n",
       "      <th>0</th>\n",
       "      <td>Alfred</td>\n",
       "      <td>NaN</td>\n",
       "      <td>NaT</td>\n",
       "      <td>NaN</td>\n",
       "    </tr>\n",
       "    <tr>\n",
       "      <th>1</th>\n",
       "      <td>Batman</td>\n",
       "      <td>Batmobile</td>\n",
       "      <td>1940-04-25</td>\n",
       "      <td>NaN</td>\n",
       "    </tr>\n",
       "    <tr>\n",
       "      <th>2</th>\n",
       "      <td>Catwoman</td>\n",
       "      <td>Bullwhip</td>\n",
       "      <td>NaT</td>\n",
       "      <td>NaN</td>\n",
       "    </tr>\n",
       "  </tbody>\n",
       "</table>\n",
       "</div>"
      ],
      "text/plain": [
       "       name        toy       born  height\n",
       "0    Alfred        NaN        NaT     NaN\n",
       "1    Batman  Batmobile 1940-04-25     NaN\n",
       "2  Catwoman   Bullwhip        NaT     NaN"
      ]
     },
     "execution_count": 92,
     "metadata": {},
     "output_type": "execute_result"
    }
   ],
   "source": [
    "df.head()"
   ]
  },
  {
   "cell_type": "markdown",
   "id": "49a00387",
   "metadata": {},
   "source": [
    "# If we only want to delete those columns in which all values are Na:"
   ]
  },
  {
   "cell_type": "code",
   "execution_count": 93,
   "id": "2fa25d25",
   "metadata": {},
   "outputs": [
    {
     "data": {
      "text/html": [
       "<div>\n",
       "<style scoped>\n",
       "    .dataframe tbody tr th:only-of-type {\n",
       "        vertical-align: middle;\n",
       "    }\n",
       "\n",
       "    .dataframe tbody tr th {\n",
       "        vertical-align: top;\n",
       "    }\n",
       "\n",
       "    .dataframe thead th {\n",
       "        text-align: right;\n",
       "    }\n",
       "</style>\n",
       "<table border=\"1\" class=\"dataframe\">\n",
       "  <thead>\n",
       "    <tr style=\"text-align: right;\">\n",
       "      <th></th>\n",
       "      <th>name</th>\n",
       "      <th>toy</th>\n",
       "      <th>born</th>\n",
       "    </tr>\n",
       "  </thead>\n",
       "  <tbody>\n",
       "    <tr>\n",
       "      <th>0</th>\n",
       "      <td>Alfred</td>\n",
       "      <td>NaN</td>\n",
       "      <td>NaT</td>\n",
       "    </tr>\n",
       "    <tr>\n",
       "      <th>1</th>\n",
       "      <td>Batman</td>\n",
       "      <td>Batmobile</td>\n",
       "      <td>1940-04-25</td>\n",
       "    </tr>\n",
       "    <tr>\n",
       "      <th>2</th>\n",
       "      <td>Catwoman</td>\n",
       "      <td>Bullwhip</td>\n",
       "      <td>NaT</td>\n",
       "    </tr>\n",
       "  </tbody>\n",
       "</table>\n",
       "</div>"
      ],
      "text/plain": [
       "       name        toy       born\n",
       "0    Alfred        NaN        NaT\n",
       "1    Batman  Batmobile 1940-04-25\n",
       "2  Catwoman   Bullwhip        NaT"
      ]
     },
     "execution_count": 93,
     "metadata": {},
     "output_type": "execute_result"
    }
   ],
   "source": [
    "df.dropna(how='all',axis=1)"
   ]
  },
  {
   "cell_type": "code",
   "execution_count": 98,
   "id": "31407a9f",
   "metadata": {},
   "outputs": [],
   "source": [
    "df = pd.DataFrame({\"name\": ['Alfred', 'Batman', 'Alfred'],\n",
    "                   \"toy\": [np.nan, 'Batmobile', 'Bullwhip'],\n",
    "                   \"born\": [pd.NaT, pd.Timestamp(\"1940-04-25\"),\n",
    "                            pd.NaT]})"
   ]
  },
  {
   "cell_type": "code",
   "execution_count": 99,
   "id": "334d3884",
   "metadata": {},
   "outputs": [
    {
     "data": {
      "text/html": [
       "<div>\n",
       "<style scoped>\n",
       "    .dataframe tbody tr th:only-of-type {\n",
       "        vertical-align: middle;\n",
       "    }\n",
       "\n",
       "    .dataframe tbody tr th {\n",
       "        vertical-align: top;\n",
       "    }\n",
       "\n",
       "    .dataframe thead th {\n",
       "        text-align: right;\n",
       "    }\n",
       "</style>\n",
       "<table border=\"1\" class=\"dataframe\">\n",
       "  <thead>\n",
       "    <tr style=\"text-align: right;\">\n",
       "      <th></th>\n",
       "      <th>name</th>\n",
       "      <th>toy</th>\n",
       "      <th>born</th>\n",
       "    </tr>\n",
       "  </thead>\n",
       "  <tbody>\n",
       "    <tr>\n",
       "      <th>0</th>\n",
       "      <td>Alfred</td>\n",
       "      <td>NaN</td>\n",
       "      <td>NaT</td>\n",
       "    </tr>\n",
       "    <tr>\n",
       "      <th>1</th>\n",
       "      <td>Batman</td>\n",
       "      <td>Batmobile</td>\n",
       "      <td>1940-04-25</td>\n",
       "    </tr>\n",
       "    <tr>\n",
       "      <th>2</th>\n",
       "      <td>Alfred</td>\n",
       "      <td>Bullwhip</td>\n",
       "      <td>NaT</td>\n",
       "    </tr>\n",
       "  </tbody>\n",
       "</table>\n",
       "</div>"
      ],
      "text/plain": [
       "     name        toy       born\n",
       "0  Alfred        NaN        NaT\n",
       "1  Batman  Batmobile 1940-04-25\n",
       "2  Alfred   Bullwhip        NaT"
      ]
     },
     "execution_count": 99,
     "metadata": {},
     "output_type": "execute_result"
    }
   ],
   "source": [
    "df.head()"
   ]
  },
  {
   "cell_type": "markdown",
   "id": "86389599",
   "metadata": {},
   "source": [
    "# If we want to drop Duplicates:"
   ]
  },
  {
   "cell_type": "code",
   "execution_count": 100,
   "id": "af7ce7d7",
   "metadata": {},
   "outputs": [
    {
     "data": {
      "text/html": [
       "<div>\n",
       "<style scoped>\n",
       "    .dataframe tbody tr th:only-of-type {\n",
       "        vertical-align: middle;\n",
       "    }\n",
       "\n",
       "    .dataframe tbody tr th {\n",
       "        vertical-align: top;\n",
       "    }\n",
       "\n",
       "    .dataframe thead th {\n",
       "        text-align: right;\n",
       "    }\n",
       "</style>\n",
       "<table border=\"1\" class=\"dataframe\">\n",
       "  <thead>\n",
       "    <tr style=\"text-align: right;\">\n",
       "      <th></th>\n",
       "      <th>name</th>\n",
       "      <th>toy</th>\n",
       "      <th>born</th>\n",
       "    </tr>\n",
       "  </thead>\n",
       "  <tbody>\n",
       "    <tr>\n",
       "      <th>0</th>\n",
       "      <td>Alfred</td>\n",
       "      <td>NaN</td>\n",
       "      <td>NaT</td>\n",
       "    </tr>\n",
       "    <tr>\n",
       "      <th>1</th>\n",
       "      <td>Batman</td>\n",
       "      <td>Batmobile</td>\n",
       "      <td>1940-04-25</td>\n",
       "    </tr>\n",
       "  </tbody>\n",
       "</table>\n",
       "</div>"
      ],
      "text/plain": [
       "     name        toy       born\n",
       "0  Alfred        NaN        NaT\n",
       "1  Batman  Batmobile 1940-04-25"
      ]
     },
     "execution_count": 100,
     "metadata": {},
     "output_type": "execute_result"
    }
   ],
   "source": [
    "df.drop_duplicates(subset='name')"
   ]
  },
  {
   "cell_type": "markdown",
   "id": "f2794a2c",
   "metadata": {},
   "source": [
    "*See it removed the duplicate value Alfred*"
   ]
  },
  {
   "cell_type": "markdown",
   "id": "f2cbc527",
   "metadata": {},
   "source": [
    "***what if we want to delete first row's duplicate -> not second line ???    We can use keep function:***"
   ]
  },
  {
   "cell_type": "code",
   "execution_count": 102,
   "id": "dc7aa3b7",
   "metadata": {},
   "outputs": [
    {
     "data": {
      "text/html": [
       "<div>\n",
       "<style scoped>\n",
       "    .dataframe tbody tr th:only-of-type {\n",
       "        vertical-align: middle;\n",
       "    }\n",
       "\n",
       "    .dataframe tbody tr th {\n",
       "        vertical-align: top;\n",
       "    }\n",
       "\n",
       "    .dataframe thead th {\n",
       "        text-align: right;\n",
       "    }\n",
       "</style>\n",
       "<table border=\"1\" class=\"dataframe\">\n",
       "  <thead>\n",
       "    <tr style=\"text-align: right;\">\n",
       "      <th></th>\n",
       "      <th>name</th>\n",
       "      <th>toy</th>\n",
       "      <th>born</th>\n",
       "    </tr>\n",
       "  </thead>\n",
       "  <tbody>\n",
       "    <tr>\n",
       "      <th>1</th>\n",
       "      <td>Batman</td>\n",
       "      <td>Batmobile</td>\n",
       "      <td>1940-04-25</td>\n",
       "    </tr>\n",
       "    <tr>\n",
       "      <th>2</th>\n",
       "      <td>Alfred</td>\n",
       "      <td>Bullwhip</td>\n",
       "      <td>NaT</td>\n",
       "    </tr>\n",
       "  </tbody>\n",
       "</table>\n",
       "</div>"
      ],
      "text/plain": [
       "     name        toy       born\n",
       "1  Batman  Batmobile 1940-04-25\n",
       "2  Alfred   Bullwhip        NaT"
      ]
     },
     "execution_count": 102,
     "metadata": {},
     "output_type": "execute_result"
    }
   ],
   "source": [
    "df.drop_duplicates(subset='name',keep='last')"
   ]
  },
  {
   "cell_type": "markdown",
   "id": "e75d88ad",
   "metadata": {},
   "source": [
    "*To drop first row , Just Replace last with 'first'*"
   ]
  },
  {
   "cell_type": "markdown",
   "id": "74ddb9e9",
   "metadata": {},
   "source": [
    "***Or you can remove both rows by: keep=False***"
   ]
  },
  {
   "cell_type": "code",
   "execution_count": 103,
   "id": "bfe458ac",
   "metadata": {},
   "outputs": [
    {
     "data": {
      "text/html": [
       "<div>\n",
       "<style scoped>\n",
       "    .dataframe tbody tr th:only-of-type {\n",
       "        vertical-align: middle;\n",
       "    }\n",
       "\n",
       "    .dataframe tbody tr th {\n",
       "        vertical-align: top;\n",
       "    }\n",
       "\n",
       "    .dataframe thead th {\n",
       "        text-align: right;\n",
       "    }\n",
       "</style>\n",
       "<table border=\"1\" class=\"dataframe\">\n",
       "  <thead>\n",
       "    <tr style=\"text-align: right;\">\n",
       "      <th></th>\n",
       "      <th>name</th>\n",
       "      <th>toy</th>\n",
       "      <th>born</th>\n",
       "    </tr>\n",
       "  </thead>\n",
       "  <tbody>\n",
       "    <tr>\n",
       "      <th>1</th>\n",
       "      <td>Batman</td>\n",
       "      <td>Batmobile</td>\n",
       "      <td>1940-04-25</td>\n",
       "    </tr>\n",
       "  </tbody>\n",
       "</table>\n",
       "</div>"
      ],
      "text/plain": [
       "     name        toy       born\n",
       "1  Batman  Batmobile 1940-04-25"
      ]
     },
     "execution_count": 103,
     "metadata": {},
     "output_type": "execute_result"
    }
   ],
   "source": [
    "df.drop_duplicates(subset='name',keep=False)"
   ]
  },
  {
   "cell_type": "code",
   "execution_count": 104,
   "id": "be3199a7",
   "metadata": {},
   "outputs": [
    {
     "data": {
      "text/plain": [
       "name\n",
       "Alfred    2\n",
       "Batman    1\n",
       "Name: count, dtype: int64"
      ]
     },
     "execution_count": 104,
     "metadata": {},
     "output_type": "execute_result"
    }
   ],
   "source": [
    "df['name'].value_counts(dropna=False)"
   ]
  },
  {
   "cell_type": "code",
   "execution_count": null,
   "id": "7adb61de",
   "metadata": {},
   "outputs": [],
   "source": []
  }
 ],
 "metadata": {
  "kernelspec": {
   "display_name": "Python 3 (ipykernel)",
   "language": "python",
   "name": "python3"
  },
  "language_info": {
   "codemirror_mode": {
    "name": "ipython",
    "version": 3
   },
   "file_extension": ".py",
   "mimetype": "text/x-python",
   "name": "python",
   "nbconvert_exporter": "python",
   "pygments_lexer": "ipython3",
   "version": "3.11.7"
  }
 },
 "nbformat": 4,
 "nbformat_minor": 5
}
